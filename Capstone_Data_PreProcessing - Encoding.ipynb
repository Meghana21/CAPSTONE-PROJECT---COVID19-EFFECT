{
 "cells": [
  {
   "cell_type": "code",
   "execution_count": 2,
   "metadata": {},
   "outputs": [],
   "source": [
    "import numpy as np\n",
    "import pandas as pd\n",
    "import matplotlib.pyplot as plt\n",
    "import seaborn as sns"
   ]
  },
  {
   "cell_type": "code",
   "execution_count": null,
   "metadata": {},
   "outputs": [],
   "source": [
    "'''\n",
    "Problem Statement :- To analyse the effect of COVID-19 on Individual Mindsets and their Spending patterns.\n",
    "\n",
    "Dataset :- A survey of 44 questions has been rolled out to collect the info for analysing the situations before the\n",
    "pandemic and at present. The survey recorded 472 responses and the dataset has the following 3 parts to it -\n",
    "\n",
    "1.Data description\n",
    "2.Before the pandemic\n",
    "3.Current\n",
    "\n",
    "'''"
   ]
  },
  {
   "cell_type": "markdown",
   "metadata": {},
   "source": [
    "### LOAD AND UNDERSTAND THE DATA"
   ]
  },
  {
   "cell_type": "code",
   "execution_count": 3,
   "metadata": {},
   "outputs": [
    {
     "data": {
      "text/html": [
       "<div>\n",
       "<style scoped>\n",
       "    .dataframe tbody tr th:only-of-type {\n",
       "        vertical-align: middle;\n",
       "    }\n",
       "\n",
       "    .dataframe tbody tr th {\n",
       "        vertical-align: top;\n",
       "    }\n",
       "\n",
       "    .dataframe thead th {\n",
       "        text-align: right;\n",
       "    }\n",
       "</style>\n",
       "<table border=\"1\" class=\"dataframe\">\n",
       "  <thead>\n",
       "    <tr style=\"text-align: right;\">\n",
       "      <th></th>\n",
       "      <th>Unnamed: 0</th>\n",
       "      <th>Unnamed: 1</th>\n",
       "      <th>Unnamed: 2</th>\n",
       "    </tr>\n",
       "  </thead>\n",
       "  <tbody>\n",
       "    <tr>\n",
       "      <td>0</td>\n",
       "      <td>Feature Description</td>\n",
       "      <td>NaN</td>\n",
       "      <td>NaN</td>\n",
       "    </tr>\n",
       "    <tr>\n",
       "      <td>1</td>\n",
       "      <td>NaN</td>\n",
       "      <td>Before Corona</td>\n",
       "      <td>Present</td>\n",
       "    </tr>\n",
       "    <tr>\n",
       "      <td>2</td>\n",
       "      <td>Generic</td>\n",
       "      <td>NaN</td>\n",
       "      <td>NaN</td>\n",
       "    </tr>\n",
       "    <tr>\n",
       "      <td>3</td>\n",
       "      <td>A unique identifier for every individual</td>\n",
       "      <td>ID</td>\n",
       "      <td>ID</td>\n",
       "    </tr>\n",
       "    <tr>\n",
       "      <td>4</td>\n",
       "      <td>What is your age?</td>\n",
       "      <td>Age</td>\n",
       "      <td>Age</td>\n",
       "    </tr>\n",
       "  </tbody>\n",
       "</table>\n",
       "</div>"
      ],
      "text/plain": [
       "                                 Unnamed: 0     Unnamed: 1 Unnamed: 2\n",
       "0                       Feature Description            NaN        NaN\n",
       "1                                       NaN  Before Corona    Present\n",
       "2                                   Generic            NaN        NaN\n",
       "3  A unique identifier for every individual             ID         ID\n",
       "4                         What is your age?            Age        Age"
      ]
     },
     "execution_count": 3,
     "metadata": {},
     "output_type": "execute_result"
    }
   ],
   "source": [
    "data_desc = pd.read_excel('Capstone-final-addedrows.xlsx',sheet_name='Description')\n",
    "data_desc.head()"
   ]
  },
  {
   "cell_type": "code",
   "execution_count": 4,
   "metadata": {},
   "outputs": [
    {
     "data": {
      "text/plain": [
       "(56, 3)"
      ]
     },
     "execution_count": 4,
     "metadata": {},
     "output_type": "execute_result"
    }
   ],
   "source": [
    "data_desc.shape"
   ]
  },
  {
   "cell_type": "code",
   "execution_count": 5,
   "metadata": {},
   "outputs": [
    {
     "name": "stdout",
     "output_type": "stream",
     "text": [
      "<class 'pandas.core.frame.DataFrame'>\n",
      "RangeIndex: 56 entries, 0 to 55\n",
      "Data columns (total 3 columns):\n",
      "Unnamed: 0    51 non-null object\n",
      "Unnamed: 1    46 non-null object\n",
      "Unnamed: 2    46 non-null object\n",
      "dtypes: object(3)\n",
      "memory usage: 1.4+ KB\n"
     ]
    }
   ],
   "source": [
    "data_desc.info()"
   ]
  },
  {
   "cell_type": "code",
   "execution_count": 6,
   "metadata": {},
   "outputs": [
    {
     "data": {
      "text/html": [
       "<div>\n",
       "<style scoped>\n",
       "    .dataframe tbody tr th:only-of-type {\n",
       "        vertical-align: middle;\n",
       "    }\n",
       "\n",
       "    .dataframe tbody tr th {\n",
       "        vertical-align: top;\n",
       "    }\n",
       "\n",
       "    .dataframe thead th {\n",
       "        text-align: right;\n",
       "    }\n",
       "</style>\n",
       "<table border=\"1\" class=\"dataframe\">\n",
       "  <thead>\n",
       "    <tr style=\"text-align: right;\">\n",
       "      <th></th>\n",
       "      <th>ID</th>\n",
       "      <th>Age</th>\n",
       "      <th>Income</th>\n",
       "      <th>Emp_stat_Before</th>\n",
       "      <th>Gender</th>\n",
       "      <th>Marital_status</th>\n",
       "      <th>Loc</th>\n",
       "      <th>Notice_things_Before</th>\n",
       "      <th>All_angles_Before</th>\n",
       "      <th>Sincere_prod_Before</th>\n",
       "      <th>...</th>\n",
       "      <th>Mode_of_transport_Before</th>\n",
       "      <th>Basic_medications_Before</th>\n",
       "      <th>Digital_content_Before</th>\n",
       "      <th>Active_Investor_Before</th>\n",
       "      <th>Edu_instit_fee_Before</th>\n",
       "      <th>Spend_on_gadgets_Before</th>\n",
       "      <th>spend_on_Luxury_Before</th>\n",
       "      <th>Track_Household_exp_Before</th>\n",
       "      <th>Domestic_help_Before</th>\n",
       "      <th>Spending_kind_Before</th>\n",
       "    </tr>\n",
       "  </thead>\n",
       "  <tbody>\n",
       "    <tr>\n",
       "      <td>0</td>\n",
       "      <td>1</td>\n",
       "      <td>55+</td>\n",
       "      <td>3 - 5 lakh per annum</td>\n",
       "      <td>Unemployed (not currently looking for work)</td>\n",
       "      <td>Male</td>\n",
       "      <td>Yes</td>\n",
       "      <td>Telangana</td>\n",
       "      <td>Strongly agree</td>\n",
       "      <td>Agree</td>\n",
       "      <td>Neutral</td>\n",
       "      <td>...</td>\n",
       "      <td>Private (cabs e.t.c)</td>\n",
       "      <td>Disagree</td>\n",
       "      <td>Disagree</td>\n",
       "      <td>Neutral</td>\n",
       "      <td>Agree</td>\n",
       "      <td>Neutral</td>\n",
       "      <td>Disagree</td>\n",
       "      <td>Maybe</td>\n",
       "      <td>2.0</td>\n",
       "      <td>High spending</td>\n",
       "    </tr>\n",
       "    <tr>\n",
       "      <td>1</td>\n",
       "      <td>2</td>\n",
       "      <td>55+</td>\n",
       "      <td>20+ lakh per annum</td>\n",
       "      <td>Student</td>\n",
       "      <td>Male</td>\n",
       "      <td>Yes</td>\n",
       "      <td>Mars</td>\n",
       "      <td>Strongly disagree</td>\n",
       "      <td>Strongly disagree</td>\n",
       "      <td>Strongly disagree</td>\n",
       "      <td>...</td>\n",
       "      <td>Private (cabs e.t.c)</td>\n",
       "      <td>Disagree</td>\n",
       "      <td>Agree</td>\n",
       "      <td>Strongly disagree</td>\n",
       "      <td>Strongly disagree</td>\n",
       "      <td>Strongly disagree</td>\n",
       "      <td>Disagree</td>\n",
       "      <td>No</td>\n",
       "      <td>5.0</td>\n",
       "      <td>High spending</td>\n",
       "    </tr>\n",
       "    <tr>\n",
       "      <td>2</td>\n",
       "      <td>3</td>\n",
       "      <td>20-25</td>\n",
       "      <td>5 - 10 lakh per annum</td>\n",
       "      <td>Private Sector Employee</td>\n",
       "      <td>Male</td>\n",
       "      <td>No</td>\n",
       "      <td>Telangana</td>\n",
       "      <td>Strongly disagree</td>\n",
       "      <td>Strongly Agree</td>\n",
       "      <td>Strongly agree</td>\n",
       "      <td>...</td>\n",
       "      <td>Private (cabs e.t.c)</td>\n",
       "      <td>Disagree</td>\n",
       "      <td>Disagree</td>\n",
       "      <td>Strongly Agree</td>\n",
       "      <td>Agree</td>\n",
       "      <td>Neutral</td>\n",
       "      <td>Neutral</td>\n",
       "      <td>No</td>\n",
       "      <td>2.0</td>\n",
       "      <td>Medium spending</td>\n",
       "    </tr>\n",
       "    <tr>\n",
       "      <td>3</td>\n",
       "      <td>4</td>\n",
       "      <td>40-55</td>\n",
       "      <td>Under 3 lakh per annum</td>\n",
       "      <td>Self-Employed</td>\n",
       "      <td>Male</td>\n",
       "      <td>Yes</td>\n",
       "      <td>Telangana</td>\n",
       "      <td>Neutral</td>\n",
       "      <td>Neutral</td>\n",
       "      <td>Agree</td>\n",
       "      <td>...</td>\n",
       "      <td>Personal</td>\n",
       "      <td>Agree</td>\n",
       "      <td>Agree</td>\n",
       "      <td>Neutral</td>\n",
       "      <td>Neutral</td>\n",
       "      <td>Agree</td>\n",
       "      <td>Agree</td>\n",
       "      <td>No</td>\n",
       "      <td>1.0</td>\n",
       "      <td>Medium spending</td>\n",
       "    </tr>\n",
       "    <tr>\n",
       "      <td>4</td>\n",
       "      <td>5</td>\n",
       "      <td>20-25</td>\n",
       "      <td>I don't earn right now (maybe in future)</td>\n",
       "      <td>Student</td>\n",
       "      <td>Female</td>\n",
       "      <td>No</td>\n",
       "      <td>Telangana</td>\n",
       "      <td>Neutral</td>\n",
       "      <td>Agree</td>\n",
       "      <td>Agree</td>\n",
       "      <td>...</td>\n",
       "      <td>Personal</td>\n",
       "      <td>Agree</td>\n",
       "      <td>Agree</td>\n",
       "      <td>Neutral</td>\n",
       "      <td>Agree</td>\n",
       "      <td>Agree</td>\n",
       "      <td>Agree</td>\n",
       "      <td>NaN</td>\n",
       "      <td>0.0</td>\n",
       "      <td>Medium spending</td>\n",
       "    </tr>\n",
       "  </tbody>\n",
       "</table>\n",
       "<p>5 rows × 43 columns</p>\n",
       "</div>"
      ],
      "text/plain": [
       "   ID    Age                                    Income  \\\n",
       "0   1    55+                      3 - 5 lakh per annum   \n",
       "1   2    55+                        20+ lakh per annum   \n",
       "2   3  20-25                     5 - 10 lakh per annum   \n",
       "3   4  40-55                    Under 3 lakh per annum   \n",
       "4   5  20-25  I don't earn right now (maybe in future)   \n",
       "\n",
       "                               Emp_stat_Before  Gender Marital_status  \\\n",
       "0  Unemployed (not currently looking for work)    Male            Yes   \n",
       "1                                      Student    Male            Yes   \n",
       "2                      Private Sector Employee    Male             No   \n",
       "3                                Self-Employed    Male            Yes   \n",
       "4                                      Student  Female             No   \n",
       "\n",
       "         Loc Notice_things_Before  All_angles_Before Sincere_prod_Before  ...  \\\n",
       "0  Telangana       Strongly agree              Agree             Neutral  ...   \n",
       "1       Mars    Strongly disagree  Strongly disagree   Strongly disagree  ...   \n",
       "2  Telangana    Strongly disagree     Strongly Agree      Strongly agree  ...   \n",
       "3  Telangana              Neutral            Neutral               Agree  ...   \n",
       "4  Telangana              Neutral              Agree               Agree  ...   \n",
       "\n",
       "  Mode_of_transport_Before Basic_medications_Before Digital_content_Before  \\\n",
       "0     Private (cabs e.t.c)                 Disagree               Disagree   \n",
       "1     Private (cabs e.t.c)                 Disagree                  Agree   \n",
       "2     Private (cabs e.t.c)                 Disagree               Disagree   \n",
       "3                 Personal                    Agree                  Agree   \n",
       "4                 Personal                    Agree                  Agree   \n",
       "\n",
       "  Active_Investor_Before Edu_instit_fee_Before Spend_on_gadgets_Before  \\\n",
       "0                Neutral                 Agree                 Neutral   \n",
       "1      Strongly disagree     Strongly disagree       Strongly disagree   \n",
       "2         Strongly Agree                 Agree                 Neutral   \n",
       "3                Neutral               Neutral                   Agree   \n",
       "4                Neutral                 Agree                   Agree   \n",
       "\n",
       "  spend_on_Luxury_Before Track_Household_exp_Before Domestic_help_Before  \\\n",
       "0               Disagree                      Maybe                  2.0   \n",
       "1               Disagree                         No                  5.0   \n",
       "2                Neutral                         No                  2.0   \n",
       "3                  Agree                         No                  1.0   \n",
       "4                  Agree                        NaN                  0.0   \n",
       "\n",
       "  Spending_kind_Before  \n",
       "0        High spending  \n",
       "1        High spending  \n",
       "2      Medium spending  \n",
       "3      Medium spending  \n",
       "4      Medium spending  \n",
       "\n",
       "[5 rows x 43 columns]"
      ]
     },
     "execution_count": 6,
     "metadata": {},
     "output_type": "execute_result"
    }
   ],
   "source": [
    "data_before = pd.read_excel('Capstone-final-addedrows.xlsx',sheet_name='Before Corona')\n",
    "data_before.head()"
   ]
  },
  {
   "cell_type": "code",
   "execution_count": 7,
   "metadata": {},
   "outputs": [
    {
     "data": {
      "text/plain": [
       "(551, 43)"
      ]
     },
     "execution_count": 7,
     "metadata": {},
     "output_type": "execute_result"
    }
   ],
   "source": [
    "data_before.shape"
   ]
  },
  {
   "cell_type": "code",
   "execution_count": 8,
   "metadata": {},
   "outputs": [
    {
     "name": "stdout",
     "output_type": "stream",
     "text": [
      "<class 'pandas.core.frame.DataFrame'>\n",
      "RangeIndex: 551 entries, 0 to 550\n",
      "Data columns (total 43 columns):\n",
      "ID                             551 non-null int64\n",
      "Age                            549 non-null object\n",
      "Income                         532 non-null object\n",
      "Emp_stat_Before                512 non-null object\n",
      "Gender                         548 non-null object\n",
      "Marital_status                 545 non-null object\n",
      "Loc                            544 non-null object\n",
      "Notice_things_Before           541 non-null object\n",
      "All_angles_Before              541 non-null object\n",
      "Sincere_prod_Before            541 non-null object\n",
      "Lonely_Before                  541 non-null object\n",
      "Worry_health_Before            536 non-null object\n",
      "Charity_Before                 541 non-null object\n",
      "New_env_Before                 540 non-null object\n",
      "Meeting_ppl_Before             539 non-null object\n",
      "Hob_interests_Before           541 non-null object\n",
      "Surveys_Before                 541 non-null object\n",
      "Spent_onli_Before              543 non-null object\n",
      "WFH_office_Before              536 non-null object\n",
      "Enthu_Before                   544 non-null object\n",
      "Smoking_hab_Before             543 non-null object\n",
      "Drinking_hab_Before            542 non-null object\n",
      "Sleeping_hab_Before            539 non-null object\n",
      "Healthy_Lifestyle_Before       537 non-null object\n",
      "Medi_pref_Before               517 non-null object\n",
      "Pol_interest_Before            540 non-null object\n",
      "Internet_interest_Before       540 non-null object\n",
      "Economy_Manag_intrst_Before    536 non-null object\n",
      "Medicine_intrst_Before         536 non-null object\n",
      "Religion_intrst_Before         535 non-null object\n",
      "Save_all_money_Before          534 non-null object\n",
      "Brand_non-brand_Before         534 non-null object\n",
      "Food_pref_Before               522 non-null object\n",
      "Mode_of_transport_Before       520 non-null object\n",
      "Basic_medications_Before       533 non-null object\n",
      "Digital_content_Before         535 non-null object\n",
      "Active_Investor_Before         534 non-null object\n",
      "Edu_instit_fee_Before          536 non-null object\n",
      "Spend_on_gadgets_Before        533 non-null object\n",
      "spend_on_Luxury_Before         535 non-null object\n",
      "Track_Household_exp_Before     531 non-null object\n",
      "Domestic_help_Before           544 non-null float64\n",
      "Spending_kind_Before           531 non-null object\n",
      "dtypes: float64(1), int64(1), object(41)\n",
      "memory usage: 185.2+ KB\n"
     ]
    }
   ],
   "source": [
    "data_before.info()"
   ]
  },
  {
   "cell_type": "code",
   "execution_count": 9,
   "metadata": {},
   "outputs": [
    {
     "data": {
      "text/html": [
       "<div>\n",
       "<style scoped>\n",
       "    .dataframe tbody tr th:only-of-type {\n",
       "        vertical-align: middle;\n",
       "    }\n",
       "\n",
       "    .dataframe tbody tr th {\n",
       "        vertical-align: top;\n",
       "    }\n",
       "\n",
       "    .dataframe thead th {\n",
       "        text-align: right;\n",
       "    }\n",
       "</style>\n",
       "<table border=\"1\" class=\"dataframe\">\n",
       "  <thead>\n",
       "    <tr style=\"text-align: right;\">\n",
       "      <th></th>\n",
       "      <th>Age</th>\n",
       "      <th>Income</th>\n",
       "      <th>Emp_stat_Before</th>\n",
       "      <th>Gender</th>\n",
       "      <th>Marital_status</th>\n",
       "      <th>Loc</th>\n",
       "      <th>Notice_things_Before</th>\n",
       "      <th>All_angles_Before</th>\n",
       "      <th>Sincere_prod_Before</th>\n",
       "      <th>Lonely_Before</th>\n",
       "      <th>...</th>\n",
       "      <th>Food_pref_Before</th>\n",
       "      <th>Mode_of_transport_Before</th>\n",
       "      <th>Basic_medications_Before</th>\n",
       "      <th>Digital_content_Before</th>\n",
       "      <th>Active_Investor_Before</th>\n",
       "      <th>Edu_instit_fee_Before</th>\n",
       "      <th>Spend_on_gadgets_Before</th>\n",
       "      <th>spend_on_Luxury_Before</th>\n",
       "      <th>Track_Household_exp_Before</th>\n",
       "      <th>Spending_kind_Before</th>\n",
       "    </tr>\n",
       "  </thead>\n",
       "  <tbody>\n",
       "    <tr>\n",
       "      <td>count</td>\n",
       "      <td>549</td>\n",
       "      <td>532</td>\n",
       "      <td>512</td>\n",
       "      <td>548</td>\n",
       "      <td>545</td>\n",
       "      <td>544</td>\n",
       "      <td>541</td>\n",
       "      <td>541</td>\n",
       "      <td>541</td>\n",
       "      <td>541</td>\n",
       "      <td>...</td>\n",
       "      <td>522</td>\n",
       "      <td>520</td>\n",
       "      <td>533</td>\n",
       "      <td>535</td>\n",
       "      <td>534</td>\n",
       "      <td>536</td>\n",
       "      <td>533</td>\n",
       "      <td>535</td>\n",
       "      <td>531</td>\n",
       "      <td>531</td>\n",
       "    </tr>\n",
       "    <tr>\n",
       "      <td>unique</td>\n",
       "      <td>6</td>\n",
       "      <td>6</td>\n",
       "      <td>6</td>\n",
       "      <td>3</td>\n",
       "      <td>2</td>\n",
       "      <td>58</td>\n",
       "      <td>5</td>\n",
       "      <td>5</td>\n",
       "      <td>5</td>\n",
       "      <td>5</td>\n",
       "      <td>...</td>\n",
       "      <td>2</td>\n",
       "      <td>3</td>\n",
       "      <td>3</td>\n",
       "      <td>3</td>\n",
       "      <td>5</td>\n",
       "      <td>5</td>\n",
       "      <td>5</td>\n",
       "      <td>3</td>\n",
       "      <td>3</td>\n",
       "      <td>6</td>\n",
       "    </tr>\n",
       "    <tr>\n",
       "      <td>top</td>\n",
       "      <td>20-25</td>\n",
       "      <td>I don't earn right now (maybe in future)</td>\n",
       "      <td>Private Sector Employee</td>\n",
       "      <td>Male</td>\n",
       "      <td>No</td>\n",
       "      <td>Telangana</td>\n",
       "      <td>Agree</td>\n",
       "      <td>Agree</td>\n",
       "      <td>Agree</td>\n",
       "      <td>Disagree</td>\n",
       "      <td>...</td>\n",
       "      <td>Outside (Online &amp; Offline)</td>\n",
       "      <td>Private (cabs e.t.c)</td>\n",
       "      <td>Agree</td>\n",
       "      <td>Neutral</td>\n",
       "      <td>Disagree</td>\n",
       "      <td>Agree</td>\n",
       "      <td>Neutral</td>\n",
       "      <td>Neutral</td>\n",
       "      <td>Yes</td>\n",
       "      <td>Medium spending</td>\n",
       "    </tr>\n",
       "    <tr>\n",
       "      <td>freq</td>\n",
       "      <td>263</td>\n",
       "      <td>145</td>\n",
       "      <td>275</td>\n",
       "      <td>282</td>\n",
       "      <td>331</td>\n",
       "      <td>284</td>\n",
       "      <td>221</td>\n",
       "      <td>249</td>\n",
       "      <td>237</td>\n",
       "      <td>194</td>\n",
       "      <td>...</td>\n",
       "      <td>265</td>\n",
       "      <td>190</td>\n",
       "      <td>259</td>\n",
       "      <td>195</td>\n",
       "      <td>148</td>\n",
       "      <td>226</td>\n",
       "      <td>211</td>\n",
       "      <td>209</td>\n",
       "      <td>263</td>\n",
       "      <td>324</td>\n",
       "    </tr>\n",
       "  </tbody>\n",
       "</table>\n",
       "<p>4 rows × 41 columns</p>\n",
       "</div>"
      ],
      "text/plain": [
       "          Age                                    Income  \\\n",
       "count     549                                       532   \n",
       "unique      6                                         6   \n",
       "top     20-25  I don't earn right now (maybe in future)   \n",
       "freq      263                                       145   \n",
       "\n",
       "                Emp_stat_Before Gender Marital_status        Loc  \\\n",
       "count                       512    548            545        544   \n",
       "unique                        6      3              2         58   \n",
       "top     Private Sector Employee   Male             No  Telangana   \n",
       "freq                        275    282            331        284   \n",
       "\n",
       "       Notice_things_Before All_angles_Before Sincere_prod_Before  \\\n",
       "count                   541               541                 541   \n",
       "unique                    5                 5                   5   \n",
       "top                   Agree             Agree               Agree   \n",
       "freq                    221               249                 237   \n",
       "\n",
       "       Lonely_Before  ...            Food_pref_Before  \\\n",
       "count            541  ...                         522   \n",
       "unique             5  ...                           2   \n",
       "top         Disagree  ...  Outside (Online & Offline)   \n",
       "freq             194  ...                         265   \n",
       "\n",
       "       Mode_of_transport_Before Basic_medications_Before  \\\n",
       "count                       520                      533   \n",
       "unique                        3                        3   \n",
       "top        Private (cabs e.t.c)                    Agree   \n",
       "freq                        190                      259   \n",
       "\n",
       "       Digital_content_Before Active_Investor_Before Edu_instit_fee_Before  \\\n",
       "count                     535                    534                   536   \n",
       "unique                      3                      5                     5   \n",
       "top                   Neutral               Disagree                 Agree   \n",
       "freq                      195                    148                   226   \n",
       "\n",
       "       Spend_on_gadgets_Before spend_on_Luxury_Before  \\\n",
       "count                      533                    535   \n",
       "unique                       5                      3   \n",
       "top                    Neutral                Neutral   \n",
       "freq                       211                    209   \n",
       "\n",
       "       Track_Household_exp_Before Spending_kind_Before  \n",
       "count                         531                  531  \n",
       "unique                          3                    6  \n",
       "top                           Yes      Medium spending  \n",
       "freq                          263                  324  \n",
       "\n",
       "[4 rows x 41 columns]"
      ]
     },
     "execution_count": 9,
     "metadata": {},
     "output_type": "execute_result"
    }
   ],
   "source": [
    "data_before.describe(include='O')"
   ]
  },
  {
   "cell_type": "code",
   "execution_count": 10,
   "metadata": {},
   "outputs": [
    {
     "data": {
      "text/html": [
       "<div>\n",
       "<style scoped>\n",
       "    .dataframe tbody tr th:only-of-type {\n",
       "        vertical-align: middle;\n",
       "    }\n",
       "\n",
       "    .dataframe tbody tr th {\n",
       "        vertical-align: top;\n",
       "    }\n",
       "\n",
       "    .dataframe thead th {\n",
       "        text-align: right;\n",
       "    }\n",
       "</style>\n",
       "<table border=\"1\" class=\"dataframe\">\n",
       "  <thead>\n",
       "    <tr style=\"text-align: right;\">\n",
       "      <th></th>\n",
       "      <th>ID</th>\n",
       "      <th>Age</th>\n",
       "      <th>Income</th>\n",
       "      <th>Emp_stat_Present</th>\n",
       "      <th>Gender</th>\n",
       "      <th>Marital_status</th>\n",
       "      <th>Loc</th>\n",
       "      <th>Notice_things_Present</th>\n",
       "      <th>All_angles_Present</th>\n",
       "      <th>Sincere_prod_Present</th>\n",
       "      <th>...</th>\n",
       "      <th>Digital_content_Present</th>\n",
       "      <th>Active_Investor_Present</th>\n",
       "      <th>Edu_instit_fee_Present</th>\n",
       "      <th>Emp_stat_Present.1</th>\n",
       "      <th>Change_in_data_consumption</th>\n",
       "      <th>Spend_on_gadgets_Present</th>\n",
       "      <th>Spend_on_Luxury_Present</th>\n",
       "      <th>Track_Household_exp_Present</th>\n",
       "      <th>Domestic_help_Present</th>\n",
       "      <th>Spending_kind_Present</th>\n",
       "    </tr>\n",
       "  </thead>\n",
       "  <tbody>\n",
       "    <tr>\n",
       "      <td>0</td>\n",
       "      <td>1</td>\n",
       "      <td>55+</td>\n",
       "      <td>3 - 5 lakh per annum</td>\n",
       "      <td>Unemployed (not currently looking for work)</td>\n",
       "      <td>Male</td>\n",
       "      <td>Yes</td>\n",
       "      <td>Telangana</td>\n",
       "      <td>Strongly agree</td>\n",
       "      <td>Strongly Agree</td>\n",
       "      <td>Strongly agree</td>\n",
       "      <td>...</td>\n",
       "      <td>Agree</td>\n",
       "      <td>Disagree</td>\n",
       "      <td>Neutral</td>\n",
       "      <td>Unemployed (not currently looking for work)</td>\n",
       "      <td>same</td>\n",
       "      <td>Agree</td>\n",
       "      <td>Disagree</td>\n",
       "      <td>Yes</td>\n",
       "      <td>1.0</td>\n",
       "      <td>Medium spending</td>\n",
       "    </tr>\n",
       "    <tr>\n",
       "      <td>1</td>\n",
       "      <td>2</td>\n",
       "      <td>55+</td>\n",
       "      <td>20+ lakh per annum</td>\n",
       "      <td>Student</td>\n",
       "      <td>Male</td>\n",
       "      <td>Yes</td>\n",
       "      <td>Mars</td>\n",
       "      <td>Strongly agree</td>\n",
       "      <td>Strongly Agree</td>\n",
       "      <td>Strongly agree</td>\n",
       "      <td>...</td>\n",
       "      <td>Agree</td>\n",
       "      <td>Strongly disagree</td>\n",
       "      <td>Strongly disagree</td>\n",
       "      <td>Student</td>\n",
       "      <td>increased</td>\n",
       "      <td>Strongly disagree</td>\n",
       "      <td>Disagree</td>\n",
       "      <td>No</td>\n",
       "      <td>3.0</td>\n",
       "      <td>High spending</td>\n",
       "    </tr>\n",
       "    <tr>\n",
       "      <td>2</td>\n",
       "      <td>3</td>\n",
       "      <td>20-25</td>\n",
       "      <td>5 - 10 lakh per annum</td>\n",
       "      <td>NaN</td>\n",
       "      <td>Male</td>\n",
       "      <td>No</td>\n",
       "      <td>Telangana</td>\n",
       "      <td>Strongly disagree</td>\n",
       "      <td>Strongly Agree</td>\n",
       "      <td>Strongly agree</td>\n",
       "      <td>...</td>\n",
       "      <td>Disagree</td>\n",
       "      <td>Strongly Agree</td>\n",
       "      <td>Agree</td>\n",
       "      <td>NaN</td>\n",
       "      <td>increased</td>\n",
       "      <td>Neutral</td>\n",
       "      <td>Neutral</td>\n",
       "      <td>No</td>\n",
       "      <td>2.0</td>\n",
       "      <td>Medium spending</td>\n",
       "    </tr>\n",
       "    <tr>\n",
       "      <td>3</td>\n",
       "      <td>4</td>\n",
       "      <td>40-55</td>\n",
       "      <td>Under 3 lakh per annum</td>\n",
       "      <td>Self-Employed</td>\n",
       "      <td>Male</td>\n",
       "      <td>Yes</td>\n",
       "      <td>Telangana</td>\n",
       "      <td>Strongly agree</td>\n",
       "      <td>Strongly Agree</td>\n",
       "      <td>Agree</td>\n",
       "      <td>...</td>\n",
       "      <td>Agree</td>\n",
       "      <td>Neutral</td>\n",
       "      <td>Neutral</td>\n",
       "      <td>Self-Employed</td>\n",
       "      <td>same</td>\n",
       "      <td>Neutral</td>\n",
       "      <td>Neutral</td>\n",
       "      <td>Yes</td>\n",
       "      <td>0.0</td>\n",
       "      <td>Low spending</td>\n",
       "    </tr>\n",
       "    <tr>\n",
       "      <td>4</td>\n",
       "      <td>5</td>\n",
       "      <td>20-25</td>\n",
       "      <td>I don't earn right now (maybe in future)</td>\n",
       "      <td>Student</td>\n",
       "      <td>Female</td>\n",
       "      <td>No</td>\n",
       "      <td>Telangana</td>\n",
       "      <td>Neutral</td>\n",
       "      <td>Agree</td>\n",
       "      <td>Agree</td>\n",
       "      <td>...</td>\n",
       "      <td>Agree</td>\n",
       "      <td>Neutral</td>\n",
       "      <td>Agree</td>\n",
       "      <td>Student</td>\n",
       "      <td>increased</td>\n",
       "      <td>Agree</td>\n",
       "      <td>Agree</td>\n",
       "      <td>NaN</td>\n",
       "      <td>0.0</td>\n",
       "      <td>Medium spending</td>\n",
       "    </tr>\n",
       "  </tbody>\n",
       "</table>\n",
       "<p>5 rows × 46 columns</p>\n",
       "</div>"
      ],
      "text/plain": [
       "   ID    Age                                    Income  \\\n",
       "0   1    55+                      3 - 5 lakh per annum   \n",
       "1   2    55+                        20+ lakh per annum   \n",
       "2   3  20-25                     5 - 10 lakh per annum   \n",
       "3   4  40-55                    Under 3 lakh per annum   \n",
       "4   5  20-25  I don't earn right now (maybe in future)   \n",
       "\n",
       "                              Emp_stat_Present  Gender Marital_status  \\\n",
       "0  Unemployed (not currently looking for work)    Male            Yes   \n",
       "1                                      Student    Male            Yes   \n",
       "2                                          NaN    Male             No   \n",
       "3                                Self-Employed    Male            Yes   \n",
       "4                                      Student  Female             No   \n",
       "\n",
       "         Loc Notice_things_Present All_angles_Present Sincere_prod_Present  \\\n",
       "0  Telangana        Strongly agree     Strongly Agree       Strongly agree   \n",
       "1       Mars        Strongly agree     Strongly Agree       Strongly agree   \n",
       "2  Telangana     Strongly disagree     Strongly Agree       Strongly agree   \n",
       "3  Telangana        Strongly agree     Strongly Agree                Agree   \n",
       "4  Telangana               Neutral              Agree                Agree   \n",
       "\n",
       "   ... Digital_content_Present Active_Investor_Present Edu_instit_fee_Present  \\\n",
       "0  ...                   Agree                Disagree                Neutral   \n",
       "1  ...                   Agree       Strongly disagree      Strongly disagree   \n",
       "2  ...                Disagree          Strongly Agree                  Agree   \n",
       "3  ...                   Agree                 Neutral                Neutral   \n",
       "4  ...                   Agree                 Neutral                  Agree   \n",
       "\n",
       "                            Emp_stat_Present.1 Change_in_data_consumption  \\\n",
       "0  Unemployed (not currently looking for work)                      same    \n",
       "1                                      Student                  increased   \n",
       "2                                          NaN                  increased   \n",
       "3                                Self-Employed                      same    \n",
       "4                                      Student                  increased   \n",
       "\n",
       "  Spend_on_gadgets_Present Spend_on_Luxury_Present  \\\n",
       "0                    Agree                Disagree   \n",
       "1        Strongly disagree                Disagree   \n",
       "2                  Neutral                 Neutral   \n",
       "3                  Neutral                 Neutral   \n",
       "4                    Agree                   Agree   \n",
       "\n",
       "  Track_Household_exp_Present Domestic_help_Present Spending_kind_Present  \n",
       "0                         Yes                   1.0       Medium spending  \n",
       "1                          No                   3.0         High spending  \n",
       "2                          No                   2.0       Medium spending  \n",
       "3                         Yes                   0.0          Low spending  \n",
       "4                         NaN                   0.0       Medium spending  \n",
       "\n",
       "[5 rows x 46 columns]"
      ]
     },
     "execution_count": 10,
     "metadata": {},
     "output_type": "execute_result"
    }
   ],
   "source": [
    "data_present = pd.read_excel('Capstone-final-addedrows.xlsx',sheet_name='Present')\n",
    "data_present.head()"
   ]
  },
  {
   "cell_type": "code",
   "execution_count": 11,
   "metadata": {},
   "outputs": [
    {
     "data": {
      "text/plain": [
       "(551, 46)"
      ]
     },
     "execution_count": 11,
     "metadata": {},
     "output_type": "execute_result"
    }
   ],
   "source": [
    "data_present.shape"
   ]
  },
  {
   "cell_type": "code",
   "execution_count": 12,
   "metadata": {},
   "outputs": [
    {
     "name": "stdout",
     "output_type": "stream",
     "text": [
      "<class 'pandas.core.frame.DataFrame'>\n",
      "RangeIndex: 551 entries, 0 to 550\n",
      "Data columns (total 46 columns):\n",
      "ID                              551 non-null int64\n",
      "Age                             549 non-null object\n",
      "Income                          532 non-null object\n",
      "Emp_stat_Present                499 non-null object\n",
      "Gender                          548 non-null object\n",
      "Marital_status                  545 non-null object\n",
      "Loc                             544 non-null object\n",
      "Notice_things_Present           541 non-null object\n",
      "All_angles_Present              537 non-null object\n",
      "Sincere_prod_Present            545 non-null object\n",
      "Lonely_Present                  544 non-null object\n",
      "Worry_health_Present            542 non-null object\n",
      "Charity_Present                 540 non-null object\n",
      "New_env_Present                 544 non-null object\n",
      "Meeting_ppl_Present             540 non-null object\n",
      "Hob_interests_Present           544 non-null object\n",
      "Surveys_Present                 540 non-null object\n",
      "Spent_onli_Present              547 non-null object\n",
      "WFH_office_Present              541 non-null object\n",
      "Ethu_Present                    543 non-null object\n",
      "Income_Change                   520 non-null object\n",
      "Smoking_hab_Present             543 non-null object\n",
      "Drinking_hab_Present            546 non-null object\n",
      "Sleeping_hab_Present            542 non-null object\n",
      "Healthy_Lifestyle_Present       542 non-null object\n",
      "Medi_pref_Present               468 non-null object\n",
      "Pol_interest_Present            542 non-null object\n",
      "Internet_interest_Present       543 non-null object\n",
      "Economy_Manag_intrst_Present    538 non-null object\n",
      "Medicine_intrst_Present         538 non-null object\n",
      "Religion_intrst_Present         539 non-null object\n",
      "Save_all_money_Present          536 non-null object\n",
      "Brand_non-brand_Present         538 non-null object\n",
      "Food_pref_Present               525 non-null object\n",
      "Mode_of_transport_Present       524 non-null object\n",
      "Basic_medications_Present       537 non-null object\n",
      "Digital_content_Present         539 non-null object\n",
      "Active_Investor_Present         538 non-null object\n",
      "Edu_instit_fee_Present          537 non-null object\n",
      "Emp_stat_Present.1              499 non-null object\n",
      "Change_in_data_consumption      535 non-null object\n",
      "Spend_on_gadgets_Present        535 non-null object\n",
      "Spend_on_Luxury_Present         535 non-null object\n",
      "Track_Household_exp_Present     532 non-null object\n",
      "Domestic_help_Present           542 non-null float64\n",
      "Spending_kind_Present           534 non-null object\n",
      "dtypes: float64(1), int64(1), object(44)\n",
      "memory usage: 198.1+ KB\n"
     ]
    }
   ],
   "source": [
    "data_present.info()"
   ]
  },
  {
   "cell_type": "code",
   "execution_count": 13,
   "metadata": {},
   "outputs": [
    {
     "data": {
      "text/html": [
       "<div>\n",
       "<style scoped>\n",
       "    .dataframe tbody tr th:only-of-type {\n",
       "        vertical-align: middle;\n",
       "    }\n",
       "\n",
       "    .dataframe tbody tr th {\n",
       "        vertical-align: top;\n",
       "    }\n",
       "\n",
       "    .dataframe thead th {\n",
       "        text-align: right;\n",
       "    }\n",
       "</style>\n",
       "<table border=\"1\" class=\"dataframe\">\n",
       "  <thead>\n",
       "    <tr style=\"text-align: right;\">\n",
       "      <th></th>\n",
       "      <th>Age</th>\n",
       "      <th>Income</th>\n",
       "      <th>Emp_stat_Present</th>\n",
       "      <th>Gender</th>\n",
       "      <th>Marital_status</th>\n",
       "      <th>Loc</th>\n",
       "      <th>Notice_things_Present</th>\n",
       "      <th>All_angles_Present</th>\n",
       "      <th>Sincere_prod_Present</th>\n",
       "      <th>Lonely_Present</th>\n",
       "      <th>...</th>\n",
       "      <th>Basic_medications_Present</th>\n",
       "      <th>Digital_content_Present</th>\n",
       "      <th>Active_Investor_Present</th>\n",
       "      <th>Edu_instit_fee_Present</th>\n",
       "      <th>Emp_stat_Present.1</th>\n",
       "      <th>Change_in_data_consumption</th>\n",
       "      <th>Spend_on_gadgets_Present</th>\n",
       "      <th>Spend_on_Luxury_Present</th>\n",
       "      <th>Track_Household_exp_Present</th>\n",
       "      <th>Spending_kind_Present</th>\n",
       "    </tr>\n",
       "  </thead>\n",
       "  <tbody>\n",
       "    <tr>\n",
       "      <td>count</td>\n",
       "      <td>549</td>\n",
       "      <td>532</td>\n",
       "      <td>499</td>\n",
       "      <td>548</td>\n",
       "      <td>545</td>\n",
       "      <td>544</td>\n",
       "      <td>541</td>\n",
       "      <td>537</td>\n",
       "      <td>545</td>\n",
       "      <td>544</td>\n",
       "      <td>...</td>\n",
       "      <td>537</td>\n",
       "      <td>539</td>\n",
       "      <td>538</td>\n",
       "      <td>537</td>\n",
       "      <td>499</td>\n",
       "      <td>535</td>\n",
       "      <td>535</td>\n",
       "      <td>535</td>\n",
       "      <td>532</td>\n",
       "      <td>534</td>\n",
       "    </tr>\n",
       "    <tr>\n",
       "      <td>unique</td>\n",
       "      <td>6</td>\n",
       "      <td>6</td>\n",
       "      <td>6</td>\n",
       "      <td>3</td>\n",
       "      <td>2</td>\n",
       "      <td>58</td>\n",
       "      <td>5</td>\n",
       "      <td>5</td>\n",
       "      <td>5</td>\n",
       "      <td>5</td>\n",
       "      <td>...</td>\n",
       "      <td>3</td>\n",
       "      <td>3</td>\n",
       "      <td>5</td>\n",
       "      <td>5</td>\n",
       "      <td>6</td>\n",
       "      <td>3</td>\n",
       "      <td>5</td>\n",
       "      <td>3</td>\n",
       "      <td>3</td>\n",
       "      <td>6</td>\n",
       "    </tr>\n",
       "    <tr>\n",
       "      <td>top</td>\n",
       "      <td>20-25</td>\n",
       "      <td>I don't earn right now (maybe in future)</td>\n",
       "      <td>Private Sector Employee</td>\n",
       "      <td>Male</td>\n",
       "      <td>No</td>\n",
       "      <td>Telangana</td>\n",
       "      <td>Agree</td>\n",
       "      <td>Agree</td>\n",
       "      <td>Agree</td>\n",
       "      <td>Disagree</td>\n",
       "      <td>...</td>\n",
       "      <td>Agree</td>\n",
       "      <td>Agree</td>\n",
       "      <td>Disagree</td>\n",
       "      <td>Agree</td>\n",
       "      <td>Private Sector Employee</td>\n",
       "      <td>increased</td>\n",
       "      <td>Neutral</td>\n",
       "      <td>Disagree</td>\n",
       "      <td>Yes</td>\n",
       "      <td>Medium spending</td>\n",
       "    </tr>\n",
       "    <tr>\n",
       "      <td>freq</td>\n",
       "      <td>263</td>\n",
       "      <td>145</td>\n",
       "      <td>238</td>\n",
       "      <td>282</td>\n",
       "      <td>331</td>\n",
       "      <td>284</td>\n",
       "      <td>232</td>\n",
       "      <td>256</td>\n",
       "      <td>243</td>\n",
       "      <td>134</td>\n",
       "      <td>...</td>\n",
       "      <td>358</td>\n",
       "      <td>298</td>\n",
       "      <td>158</td>\n",
       "      <td>223</td>\n",
       "      <td>238</td>\n",
       "      <td>303</td>\n",
       "      <td>211</td>\n",
       "      <td>217</td>\n",
       "      <td>362</td>\n",
       "      <td>277</td>\n",
       "    </tr>\n",
       "  </tbody>\n",
       "</table>\n",
       "<p>4 rows × 44 columns</p>\n",
       "</div>"
      ],
      "text/plain": [
       "          Age                                    Income  \\\n",
       "count     549                                       532   \n",
       "unique      6                                         6   \n",
       "top     20-25  I don't earn right now (maybe in future)   \n",
       "freq      263                                       145   \n",
       "\n",
       "               Emp_stat_Present Gender Marital_status        Loc  \\\n",
       "count                       499    548            545        544   \n",
       "unique                        6      3              2         58   \n",
       "top     Private Sector Employee   Male             No  Telangana   \n",
       "freq                        238    282            331        284   \n",
       "\n",
       "       Notice_things_Present All_angles_Present Sincere_prod_Present  \\\n",
       "count                    541                537                  545   \n",
       "unique                     5                  5                    5   \n",
       "top                    Agree              Agree                Agree   \n",
       "freq                     232                256                  243   \n",
       "\n",
       "       Lonely_Present  ... Basic_medications_Present Digital_content_Present  \\\n",
       "count             544  ...                       537                     539   \n",
       "unique              5  ...                         3                       3   \n",
       "top          Disagree  ...                     Agree                   Agree   \n",
       "freq              134  ...                       358                     298   \n",
       "\n",
       "       Active_Investor_Present Edu_instit_fee_Present  \\\n",
       "count                      538                    537   \n",
       "unique                       5                      5   \n",
       "top                   Disagree                  Agree   \n",
       "freq                       158                    223   \n",
       "\n",
       "             Emp_stat_Present.1 Change_in_data_consumption  \\\n",
       "count                       499                        535   \n",
       "unique                        6                          3   \n",
       "top     Private Sector Employee                  increased   \n",
       "freq                        238                        303   \n",
       "\n",
       "       Spend_on_gadgets_Present Spend_on_Luxury_Present  \\\n",
       "count                       535                     535   \n",
       "unique                        5                       3   \n",
       "top                     Neutral                Disagree   \n",
       "freq                        211                     217   \n",
       "\n",
       "       Track_Household_exp_Present Spending_kind_Present  \n",
       "count                          532                   534  \n",
       "unique                           3                     6  \n",
       "top                            Yes       Medium spending  \n",
       "freq                           362                   277  \n",
       "\n",
       "[4 rows x 44 columns]"
      ]
     },
     "execution_count": 13,
     "metadata": {},
     "output_type": "execute_result"
    }
   ],
   "source": [
    "data_present.describe(include='O')"
   ]
  },
  {
   "cell_type": "code",
   "execution_count": 258,
   "metadata": {},
   "outputs": [
    {
     "data": {
      "text/plain": [
       "'\\nThe following details can be observed in the above datasets :-\\n1.Except 2 columns (ID,Domestic_help) all other columns are categorical in nature, in the before and current datasets.\\n2.\\n\\n'"
      ]
     },
     "execution_count": 258,
     "metadata": {},
     "output_type": "execute_result"
    }
   ],
   "source": [
    "'''\n",
    "The following details can be observed in the above datasets :-\n",
    "1.Except 2 columns (ID,Domestic_help) all other columns are categorical in nature, in the before and current datasets.\n",
    "2.\n",
    "\n",
    "'''"
   ]
  },
  {
   "cell_type": "code",
   "execution_count": 259,
   "metadata": {},
   "outputs": [
    {
     "data": {
      "text/plain": [
       "2.532393533955177"
      ]
     },
     "execution_count": 259,
     "metadata": {},
     "output_type": "execute_result"
    }
   ],
   "source": [
    "(data_before.isnull().sum().sum()/(data_before.shape[0]*data_before.shape[1]))*100"
   ]
  },
  {
   "cell_type": "code",
   "execution_count": 260,
   "metadata": {},
   "outputs": [
    {
     "data": {
      "text/plain": [
       "<matplotlib.axes._subplots.AxesSubplot at 0x1a201a1650>"
      ]
     },
     "execution_count": 260,
     "metadata": {},
     "output_type": "execute_result"
    },
    {
     "data": {
      "image/png": "[encoded data removed]",
      "text/plain": [
       "<Figure size 1296x576 with 2 Axes>"
      ]
     },
     "metadata": {
      "needs_background": "light"
     },
     "output_type": "display_data"
    }
   ],
   "source": [
    "fig,axes = plt.subplots(2,1,figsize=(18,8))\n",
    "sns.countplot(data_before['Emp_stat_Before'],ax=axes[0])\n",
    "sns.countplot(data_present['Emp_stat_Present'],ax=axes[1])"
   ]
  },
  {
   "cell_type": "code",
   "execution_count": 261,
   "metadata": {},
   "outputs": [
    {
     "data": {
      "text/plain": [
       "Private Sector Employee                        275\n",
       "Student                                         92\n",
       "Public Sector Employee                          60\n",
       "Self-Employed                                   60\n",
       "Unemployed (currently looking for work)         14\n",
       "Unemployed (not currently looking for work)     11\n",
       "Name: Emp_stat_Before, dtype: int64"
      ]
     },
     "execution_count": 261,
     "metadata": {},
     "output_type": "execute_result"
    }
   ],
   "source": [
    "data_before['Emp_stat_Before'].value_counts()"
   ]
  },
  {
   "cell_type": "code",
   "execution_count": 262,
   "metadata": {},
   "outputs": [
    {
     "data": {
      "text/plain": [
       "Private Sector Employee                        238\n",
       "Student                                         86\n",
       "Self-Employed                                   59\n",
       "Public Sector Employee                          55\n",
       "Unemployed (currently looking for work)         45\n",
       "Unemployed (not currently looking for work)     16\n",
       "Name: Emp_stat_Present, dtype: int64"
      ]
     },
     "execution_count": 262,
     "metadata": {},
     "output_type": "execute_result"
    }
   ],
   "source": [
    "data_present['Emp_stat_Present'].value_counts()"
   ]
  },
  {
   "cell_type": "code",
   "execution_count": 263,
   "metadata": {},
   "outputs": [
    {
     "data": {
      "text/plain": [
       "array(['Decreased', 'Same or no effect', 'Increased'], dtype=object)"
      ]
     },
     "execution_count": 263,
     "metadata": {},
     "output_type": "execute_result"
    }
   ],
   "source": [
    "data_present['Income_Change'].dropna().unique()"
   ]
  },
  {
   "cell_type": "code",
   "execution_count": 95,
   "metadata": {},
   "outputs": [
    {
     "data": {
      "text/html": [
       "<div>\n",
       "<style scoped>\n",
       "    .dataframe tbody tr th:only-of-type {\n",
       "        vertical-align: middle;\n",
       "    }\n",
       "\n",
       "    .dataframe tbody tr th {\n",
       "        vertical-align: top;\n",
       "    }\n",
       "\n",
       "    .dataframe thead th {\n",
       "        text-align: right;\n",
       "    }\n",
       "</style>\n",
       "<table border=\"1\" class=\"dataframe\">\n",
       "  <thead>\n",
       "    <tr style=\"text-align: right;\">\n",
       "      <th></th>\n",
       "      <th>ID</th>\n",
       "      <th>Age</th>\n",
       "      <th>Income</th>\n",
       "      <th>Emp_stat_Present</th>\n",
       "      <th>Gender</th>\n",
       "      <th>Marital_status</th>\n",
       "      <th>Loc</th>\n",
       "      <th>Notice_things_Present</th>\n",
       "      <th>All_angles_Present</th>\n",
       "      <th>Sincere_prod_Present</th>\n",
       "      <th>...</th>\n",
       "      <th>Digital_content_Present</th>\n",
       "      <th>Active_Investor_Present</th>\n",
       "      <th>Edu_instit_fee_Present</th>\n",
       "      <th>Emp_stat_Present.1</th>\n",
       "      <th>Change_in_data_consumption</th>\n",
       "      <th>Spend_on_gadgets_Present</th>\n",
       "      <th>Spend_on_Luxury_Present</th>\n",
       "      <th>Track_Household_exp_Present</th>\n",
       "      <th>Domestic_help_Present</th>\n",
       "      <th>Spending_kind_Present</th>\n",
       "    </tr>\n",
       "  </thead>\n",
       "  <tbody>\n",
       "  </tbody>\n",
       "</table>\n",
       "<p>0 rows × 46 columns</p>\n",
       "</div>"
      ],
      "text/plain": [
       "Empty DataFrame\n",
       "Columns: [ID, Age, Income, Emp_stat_Present, Gender, Marital_status, Loc, Notice_things_Present, All_angles_Present, Sincere_prod_Present, Lonely_Present, Worry_health_Present, Charity_Present, New_env_Present, Meeting_ppl_Present, Hob_interests_Present, Surveys_Present, Spent_onli_Present, WFH_office_Present, Ethu_Present, Income_Change, Smoking_hab_Present, Drinking_hab_Present, Sleeping_hab_Present, Healthy_Lifestyle_Present, Medi_pref_Present, Pol_interest_Present, Internet_interest_Present, Economy_Manag_intrst_Present, Medicine_intrst_Present, Religion_intrst_Present, Save_all_money_Present, Brand_non-brand_Present, Food_pref_Present, Mode_of_transport_Present, Basic_medications_Present, Digital_content_Present, Active_Investor_Present, Edu_instit_fee_Present, Emp_stat_Present.1, Change_in_data_consumption, Spend_on_gadgets_Present, Spend_on_Luxury_Present, Track_Household_exp_Present, Domestic_help_Present, Spending_kind_Present]\n",
       "Index: []\n",
       "\n",
       "[0 rows x 46 columns]"
      ]
     },
     "execution_count": 95,
     "metadata": {},
     "output_type": "execute_result"
    }
   ],
   "source": [
    "data_present[data_present['Income_Change']==' ']"
   ]
  },
  {
   "cell_type": "code",
   "execution_count": null,
   "metadata": {},
   "outputs": [],
   "source": [
    "'''\n",
    "From the above data and graphs we can infer the following things :-\n",
    "1.The self-employed and public sector employess didnot get effected wrt their income source/jobs.\n",
    "2.Whereas the increase in the number of Unemployed(currently looking for work) people in the current situation and the\n",
    "decrease in the private sector jobs does indicate lay offs\n",
    "3.There are 38% of people whose income has been decreased despite of holding the same jobs.(imprper data \n",
    "to draw pie chart)\n",
    "4.On the whole the breif period of the pandemic does have a significant impact on the income sources as well as the\n",
    "incomes of people specially the ones belonging to  private working class\n",
    "\n",
    "\n",
    "5. We can do in depth analysis by grouping the data wrt to employement status and plotting the income change for the \n",
    "same to identify which sector has significant drop in the income levels, and know whether the self employed\n",
    "has been effected due to the pandemic or not.\n",
    "\n",
    "6. Further , if the self employed did get affected, had we have collected the industrial data as to which industry\n",
    "does their business belong to, we would have got a more in depth understanding as of which businessmen are effected\n",
    "to what levels . (more effective questionnaire point/ question to be added ---- criticism, justification).\n",
    "'''"
   ]
  },
  {
   "cell_type": "code",
   "execution_count": 264,
   "metadata": {},
   "outputs": [
    {
     "data": {
      "text/plain": [
       "array(['Medium spending', 'High spending', 'Low spending', nan,\n",
       "       'medium spending', 'low spending', 'high spending'], dtype=object)"
      ]
     },
     "execution_count": 264,
     "metadata": {},
     "output_type": "execute_result"
    }
   ],
   "source": [
    "data_present.Spending_kind_Present.unique()"
   ]
  },
  {
   "cell_type": "code",
   "execution_count": 265,
   "metadata": {},
   "outputs": [
    {
     "data": {
      "text/plain": [
       "array(['High spending', 'Medium spending', nan, 'Low spending',\n",
       "       'medium spending', 'high spending', 'low spending'], dtype=object)"
      ]
     },
     "execution_count": 265,
     "metadata": {},
     "output_type": "execute_result"
    }
   ],
   "source": [
    "data_before.Spending_kind_Before.unique()"
   ]
  },
  {
   "cell_type": "markdown",
   "metadata": {},
   "source": [
    "### DATA PRE-PROCESSING"
   ]
  },
  {
   "cell_type": "markdown",
   "metadata": {},
   "source": [
    "#### DATA BEFORE (ENCODING)"
   ]
  },
  {
   "cell_type": "code",
   "execution_count": 266,
   "metadata": {},
   "outputs": [
    {
     "data": {
      "text/plain": [
       "(551, 43)"
      ]
     },
     "execution_count": 266,
     "metadata": {},
     "output_type": "execute_result"
    }
   ],
   "source": [
    "data_before.shape"
   ]
  },
  {
   "cell_type": "code",
   "execution_count": 267,
   "metadata": {},
   "outputs": [
    {
     "data": {
      "text/plain": [
       "Index(['ID', 'Age', 'Income', 'Emp_stat_Before', 'Gender', 'Marital_status',\n",
       "       'Loc', 'Notice_things_Before', 'All_angles_Before',\n",
       "       'Sincere_prod_Before', 'Lonely_Before', 'Worry_health_Before',\n",
       "       'Charity_Before', 'New_env_Before', 'Meeting_ppl_Before',\n",
       "       'Hob_interests_Before', 'Surveys_Before', 'Spent_onli_Before',\n",
       "       'WFH_office_Before', 'Enthu_Before', 'Smoking_hab_Before',\n",
       "       'Drinking_hab_Before', 'Sleeping_hab_Before',\n",
       "       'Healthy_Lifestyle_Before', 'Medi_pref_Before', 'Pol_interest_Before',\n",
       "       'Internet_interest_Before', 'Economy_Manag_intrst_Before',\n",
       "       'Medicine_intrst_Before', 'Religion_intrst_Before',\n",
       "       'Save_all_money_Before', 'Brand_non-brand_Before', 'Food_pref_Before',\n",
       "       'Mode_of_transport_Before', 'Basic_medications_Before',\n",
       "       'Digital_content_Before', 'Active_Investor_Before',\n",
       "       'Edu_instit_fee_Before', 'Spend_on_gadgets_Before',\n",
       "       'spend_on_Luxury_Before', 'Track_Household_exp_Before',\n",
       "       'Domestic_help_Before', 'Spending_kind_Before'],\n",
       "      dtype='object')"
      ]
     },
     "execution_count": 267,
     "metadata": {},
     "output_type": "execute_result"
    }
   ],
   "source": [
    "data_before.columns"
   ]
  },
  {
   "cell_type": "code",
   "execution_count": 268,
   "metadata": {},
   "outputs": [
    {
     "data": {
      "text/plain": [
       "array(['Unemployed (not currently looking for work)', 'Student',\n",
       "       'Private Sector Employee', 'Self-Employed', nan,\n",
       "       'Public Sector Employee',\n",
       "       'Unemployed (currently looking for work)'], dtype=object)"
      ]
     },
     "execution_count": 268,
     "metadata": {},
     "output_type": "execute_result"
    }
   ],
   "source": [
    "#### demographic columns encoding\n",
    "data_before['Emp_stat_Before'].unique()"
   ]
  },
  {
   "cell_type": "code",
   "execution_count": 269,
   "metadata": {},
   "outputs": [
    {
     "data": {
      "text/plain": [
       "Private Sector Employee                        275\n",
       "Student                                         92\n",
       "Public Sector Employee                          60\n",
       "Self-Employed                                   60\n",
       "Unemployed (currently looking for work)         14\n",
       "Unemployed (not currently looking for work)     11\n",
       "Name: Emp_stat_Before, dtype: int64"
      ]
     },
     "execution_count": 269,
     "metadata": {},
     "output_type": "execute_result"
    }
   ],
   "source": [
    "data_before['Emp_stat_Before'].value_counts()"
   ]
  },
  {
   "cell_type": "code",
   "execution_count": 270,
   "metadata": {},
   "outputs": [],
   "source": [
    "data_before['Emp_stat_Before'].replace({'Unemployed (not currently looking for work)' : 0,\n",
    "                                       'Student': 1,\n",
    "                                       'Private Sector Employee': 2,\n",
    "                                       'Self-Employed': 3,\n",
    "                                       'Public Sector Employee': 4,\n",
    "                                       'Unemployed (currently looking for work)': 5},inplace=True)"
   ]
  },
  {
   "cell_type": "code",
   "execution_count": 271,
   "metadata": {},
   "outputs": [
    {
     "data": {
      "text/plain": [
       "2.0    275\n",
       "1.0     92\n",
       "4.0     60\n",
       "3.0     60\n",
       "5.0     14\n",
       "0.0     11\n",
       "Name: Emp_stat_Before, dtype: int64"
      ]
     },
     "execution_count": 271,
     "metadata": {},
     "output_type": "execute_result"
    }
   ],
   "source": [
    "data_before['Emp_stat_Before'].value_counts()"
   ]
  },
  {
   "cell_type": "code",
   "execution_count": 272,
   "metadata": {},
   "outputs": [
    {
     "data": {
      "text/plain": [
       "array(['Male', 'Female', nan, 'Prefer not to say'], dtype=object)"
      ]
     },
     "execution_count": 272,
     "metadata": {},
     "output_type": "execute_result"
    }
   ],
   "source": [
    "data_before['Gender'].unique()"
   ]
  },
  {
   "cell_type": "code",
   "execution_count": 273,
   "metadata": {},
   "outputs": [],
   "source": [
    "data_before['Gender'].replace({'Male' : 0,'Female': 1, 'Prefer not to say' : 2\n",
    "                                       },inplace=True)"
   ]
  },
  {
   "cell_type": "code",
   "execution_count": 274,
   "metadata": {},
   "outputs": [
    {
     "data": {
      "text/plain": [
       "array(['Yes', 'No', nan], dtype=object)"
      ]
     },
     "execution_count": 274,
     "metadata": {},
     "output_type": "execute_result"
    }
   ],
   "source": [
    "data_before['Marital_status'].unique()"
   ]
  },
  {
   "cell_type": "code",
   "execution_count": 275,
   "metadata": {},
   "outputs": [],
   "source": [
    "data_before['Marital_status'].replace({'No' : 0,'Yes': 1\n",
    "                                       },inplace=True)"
   ]
  },
  {
   "cell_type": "code",
   "execution_count": 276,
   "metadata": {},
   "outputs": [
    {
     "data": {
      "text/plain": [
       "array(['Telangana', 'Mars', 'Karnataka', nan, 'paris', 'Andhra Pradesh',\n",
       "       'Punjab', 'Chandigarh', 'Jharkhand', 'USA', 'Madhya Pradesh',\n",
       "       'West Bengal', 'Chattisgarh', 'Maharashtra', 'Uttar Pradesh',\n",
       "       'Odisha', 'Haryana', 'Delhi', 'Tamil nadu', 'Hertfordshire',\n",
       "       'sydney', 'Melbourne', 'Gujarat ', 'Rajasthan', 'Bihar', 'Texas',\n",
       "       'Pennsylvania', 'singapore', 'Sikkim', 'Up', 'Shahdol', 'Mp',\n",
       "       'West Bengal ', 'Hyderabad', 'Himachal Pradesh', 'TELANGANA',\n",
       "       'Telengana', 'Madhupur (Telangana)', 'HYD', 'Andhra pradesh',\n",
       "       'Telangana ', 'Maharashtra ', 'Dubai', 'Puppalaguda',\n",
       "       'Andhra Pradesh ', 'UP', 'visakhapatnam', 'Vishakapatnam',\n",
       "       'Bhopal', 'US', 'Chhattisgarh', 'Pune', 'Bangalore', 'Bhilai',\n",
       "       'Tamilnadu', 'CG', 'New delhi', 'Chennai', 'Tamil Nadu'],\n",
       "      dtype=object)"
      ]
     },
     "execution_count": 276,
     "metadata": {},
     "output_type": "execute_result"
    }
   ],
   "source": [
    "data_before['Loc'].unique()"
   ]
  },
  {
   "cell_type": "code",
   "execution_count": 277,
   "metadata": {},
   "outputs": [],
   "source": [
    "data_before['Loc'].replace(dict.fromkeys(['Telangana','Mars','Karnataka','Andhra Pradesh','Tamil nadu','Hyderabad','TELANGANA',\n",
    "                             'Telengana','Telangana ','Madhupur (Telangana)','HYD','Andhra pradesh',\n",
    "                             'Puppalaguda','Andhra Pradesh ','visakhapatnam','Vishakapatnam','Bangalore',\n",
    "                             'Tamilnadu','Tamil Nadu','Chennai'], 'South India'),inplace=True)"
   ]
  },
  {
   "cell_type": "code",
   "execution_count": 278,
   "metadata": {},
   "outputs": [],
   "source": [
    "data_before['Loc'].replace(dict.fromkeys(['Punjab','Chandigarh','Jharkhand','Madhya Pradesh','West Bengal',\n",
    "                                          'Maharashtra','Chattisgarh','Uttar Pradesh','Odisha','Haryana',\n",
    "                                          'Delhi','Gujarat','Gujarat ','Rajasthan','Bihar','Sikkim','Up','Shahdol',\n",
    "                                          'Mp','West Bengal ','Himachal Pradesh','Maharashtra ',\n",
    "                                          'UP','Bhopal','Chhattisgarh','Pune','Bhilai','CG','New delhi'],\n",
    "                                         'North India'),inplace=True)"
   ]
  },
  {
   "cell_type": "code",
   "execution_count": 279,
   "metadata": {},
   "outputs": [],
   "source": [
    "data_before['Loc'].replace(dict.fromkeys(['paris','USA','Texas','Hertfordshire','sydney','Melbourne','Pennsylvania',\n",
    "                            'singapore','Dubai','US'],'Foreign'),inplace=True)"
   ]
  },
  {
   "cell_type": "code",
   "execution_count": 280,
   "metadata": {},
   "outputs": [
    {
     "data": {
      "text/plain": [
       "array(['South India', nan, 'Foreign', 'North India'], dtype=object)"
      ]
     },
     "execution_count": 280,
     "metadata": {},
     "output_type": "execute_result"
    }
   ],
   "source": [
    "data_before['Loc'].unique()"
   ]
  },
  {
   "cell_type": "code",
   "execution_count": 281,
   "metadata": {},
   "outputs": [],
   "source": [
    "data_before['Loc'].replace({'North India' : 0,'South India': 1,'Foreign':2\n",
    "                                       },inplace=True)"
   ]
  },
  {
   "cell_type": "code",
   "execution_count": 282,
   "metadata": {},
   "outputs": [],
   "source": [
    "### personality traits encoding, spending patterns - options strongly disagree to strongly agree (1,2,3,4,5)"
   ]
  },
  {
   "cell_type": "code",
   "execution_count": 283,
   "metadata": {},
   "outputs": [
    {
     "data": {
      "text/plain": [
       "array(['Strongly agree', 'Strongly disagree', 'Neutral', 'Agree', nan,\n",
       "       'Disagree'], dtype=object)"
      ]
     },
     "execution_count": 283,
     "metadata": {},
     "output_type": "execute_result"
    }
   ],
   "source": [
    "data_before['Notice_things_Before'].unique()"
   ]
  },
  {
   "cell_type": "code",
   "execution_count": 284,
   "metadata": {},
   "outputs": [],
   "source": [
    "cols = ['Notice_things_Before', 'All_angles_Before',\n",
    "       'Sincere_prod_Before', 'Lonely_Before', 'Worry_health_Before',\n",
    "       'Charity_Before', 'New_env_Before', 'Meeting_ppl_Before',\n",
    "       'Hob_interests_Before', 'Surveys_Before','Enthu_Before','Healthy_Lifestyle_Before','Save_all_money_Before', \n",
    "        'Active_Investor_Before',\n",
    "       'Edu_instit_fee_Before', 'Spend_on_gadgets_Before']"
   ]
  },
  {
   "cell_type": "code",
   "execution_count": 285,
   "metadata": {},
   "outputs": [
    {
     "name": "stdout",
     "output_type": "stream",
     "text": [
      "['Strongly agree' 'Strongly disagree' 'Neutral' 'Agree' nan 'Disagree']\n",
      "['Agree' 'Strongly disagree' 'Strongly Agree' 'Neutral' nan 'Disagree']\n",
      "['Neutral' 'Strongly disagree' 'Strongly agree' 'Agree' nan 'Disagree']\n",
      "['Agree' 'Strongly disagree' 'Disagree' 'Strongly Agree' nan 'Neutral']\n",
      "['Disagree' 'Strongly disagree' 'Agree' 'Neutral' nan 'Strongly Agree']\n",
      "['Neutral' 'Strongly disagree' 'Agree' nan 'Disagree' 'Strongly Agree']\n",
      "['Neutral' 'Strongly disagree' 'Disagree' 'Agree' nan 'Strongly Agree']\n",
      "['Agree' 'Strongly disagree' 'Strongly Agree' 'Neutral' nan 'Disagree']\n",
      "['Neutral' 'Strongly disagree' 'Strongly agree' 'Agree' nan 'Disagree']\n",
      "['Disagree' 'Strongly disagree' 'Neutral' 'Agree' nan 'Strongly agree']\n",
      "['Strongly Agree' 'Strongly disagree' 'Neutral' 'Agree' nan 'Disagree']\n",
      "['Neutral' 'Strongly Disagree' 'Agree' nan 'Strongly agree' 'Disagree']\n",
      "['Agree' 'Strongly disagree' 'Strongly Agree' 'Neutral' 'Disagree' nan]\n",
      "['Neutral' 'Strongly disagree' 'Strongly Agree' 'Disagree' nan 'Agree']\n",
      "['Agree' 'Strongly disagree' 'Neutral' nan 'Strongly agree' 'Disagree']\n",
      "['Neutral' 'Strongly disagree' 'Agree' nan 'Strongly agree' 'Disagree']\n"
     ]
    }
   ],
   "source": [
    "for i in range(len(cols)):\n",
    "    print(data_before[cols[i]].unique())"
   ]
  },
  {
   "cell_type": "code",
   "execution_count": 286,
   "metadata": {},
   "outputs": [],
   "source": [
    "for i in [0,2,8,9,11,14,15]:\n",
    "    data_before[cols[i]].replace({'Strongly agree':'Strongly Agree'},inplace=True)"
   ]
  },
  {
   "cell_type": "code",
   "execution_count": 287,
   "metadata": {},
   "outputs": [],
   "source": [
    "data_before['Healthy_Lifestyle_Before'].replace({'Strongly Disagree':'Strongly disagree'},inplace=True)"
   ]
  },
  {
   "cell_type": "code",
   "execution_count": 288,
   "metadata": {},
   "outputs": [],
   "source": [
    "for i in range(len(cols)):\n",
    "    data_before[cols[i]].replace({'Strongly disagree' : 1,'Disagree': 2,'Neutral':3,\n",
    "                                  'Agree':4, 'Strongly Agree':5\n",
    "                                       },inplace=True)"
   ]
  },
  {
   "cell_type": "code",
   "execution_count": 289,
   "metadata": {},
   "outputs": [],
   "source": [
    "#### Interests - encode not interested to very interested (1,2,3,4)\n",
    "cols_intrst = ['Pol_interest_Before',\n",
    "       'Internet_interest_Before', 'Economy_Manag_intrst_Before',\n",
    "       'Medicine_intrst_Before', 'Religion_intrst_Before'] "
   ]
  },
  {
   "cell_type": "code",
   "execution_count": 290,
   "metadata": {},
   "outputs": [
    {
     "name": "stdout",
     "output_type": "stream",
     "text": [
      "['Moderately interested' 'Not interested' 'Neutral' nan 'Very interested']\n",
      "['Neutral' 'Very interested' 'Moderately interested' nan 'Not interested']\n",
      "['Moderately interested' 'Very interested' 'Not interested' 'Neutral' nan]\n",
      "['Moderately interested' 'Not interested' 'Neutral' nan 'Very interested']\n",
      "['Very interested' 'Not interested' 'Neutral' nan 'Moderately interested']\n"
     ]
    }
   ],
   "source": [
    "for i in range(len(cols_intrst)):\n",
    "    print(data_before[cols_intrst[i]].unique())"
   ]
  },
  {
   "cell_type": "code",
   "execution_count": 291,
   "metadata": {},
   "outputs": [],
   "source": [
    "for i in range(len(cols_intrst)):\n",
    "    data_before[cols_intrst[i]].replace({'Not interested' : 1,'Neutral': 2,'Moderately interested':3,\n",
    "                                  'Very interested':4\n",
    "                                       },inplace=True)"
   ]
  },
  {
   "cell_type": "code",
   "execution_count": 292,
   "metadata": {},
   "outputs": [],
   "source": [
    "#### Other columns - encode  Disagree , neutral , agree (2,3,4)\n",
    "\n",
    "cols_othrs = ['WFH_office_Before','Brand_non-brand_Before','Basic_medications_Before',\n",
    "              'Digital_content_Before','spend_on_Luxury_Before']"
   ]
  },
  {
   "cell_type": "code",
   "execution_count": 293,
   "metadata": {},
   "outputs": [
    {
     "name": "stdout",
     "output_type": "stream",
     "text": [
      "['Agree' 'Disagree' 'Neutral' nan]\n",
      "['Neutral' 'Agree' nan 'Disagree']\n",
      "['Disagree' 'Agree' 'Neutral' nan]\n",
      "['Disagree' 'Agree' 'Neutral' nan]\n",
      "['Disagree' 'Neutral' 'Agree' nan]\n"
     ]
    }
   ],
   "source": [
    "for i in range(len(cols_othrs)):\n",
    "    print(data_before[cols_othrs[i]].unique())"
   ]
  },
  {
   "cell_type": "code",
   "execution_count": 294,
   "metadata": {},
   "outputs": [],
   "source": [
    "for i in range(len(cols_othrs)):\n",
    "    data_before[cols_othrs[i]].replace({'Disagree': 2,'Neutral':3,\n",
    "                                  'Agree':4\n",
    "                                       },inplace=True)"
   ]
  },
  {
   "cell_type": "code",
   "execution_count": null,
   "metadata": {},
   "outputs": [],
   "source": [
    "#### encode Spending_kind_Before,Track_Household_exp_Before ,Mode_of_transport_Before,\n",
    "#### Food_pref_Before,Medi_pref_Before\n",
    "#### Smoking_hab_Before,Drinking_hab_Before,Sleeping_hab_Before,Spent_onli_Before"
   ]
  },
  {
   "cell_type": "code",
   "execution_count": 296,
   "metadata": {},
   "outputs": [],
   "source": [
    "cols_misc = ['Spending_kind_Before','Track_Household_exp_Before' ,'Mode_of_transport_Before','Food_pref_Before',\n",
    "             'Medi_pref_Before','Smoking_hab_Before','Drinking_hab_Before','Sleeping_hab_Before','Spent_onli_Before']"
   ]
  },
  {
   "cell_type": "code",
   "execution_count": 297,
   "metadata": {},
   "outputs": [
    {
     "name": "stdout",
     "output_type": "stream",
     "text": [
      "['High spending' 'Medium spending' nan 'Low spending' 'medium spending'\n",
      " 'high spending' 'low spending']\n",
      "['Maybe' 'No' nan 'Yes']\n",
      "['Private (cabs e.t.c)' 'Personal' nan 'Public (Metro, govt e.t.c)']\n",
      "['Outside (Online & Offline)' 'Home - Cooked' nan]\n",
      "['Homemade or Traditional (ayurvedic e.t.c)' 'English Medicine' nan]\n",
      "['Former smoker' 'Current smoker' 'Tried smoking' 'Never smoked' nan]\n",
      "['Social drinker' 'Drink a lot' 'Never' nan]\n",
      "['Early to bed and early to rise' 'late to bed and late to rise'\n",
      " 'Late to bed and early to rise' nan 'Early to bed and late to rise']\n",
      "['Less than an hour a day' 'Most of the day' 'Few hours a day' nan\n",
      " 'No time at all']\n"
     ]
    }
   ],
   "source": [
    "for i in range(len(cols_misc)):\n",
    "    print(data_before[cols_misc[i]].unique())"
   ]
  },
  {
   "cell_type": "code",
   "execution_count": 298,
   "metadata": {},
   "outputs": [],
   "source": [
    "data_before['Spending_kind_Before'].replace({'low spending':0,\n",
    "                                             'Low spending':0,\n",
    "                                            'Medium spending':1,\n",
    "                                            'medium spending':1,\n",
    "                                            'High spending':2,\n",
    "                                            'high spending':2},inplace=True)"
   ]
  },
  {
   "cell_type": "code",
   "execution_count": 301,
   "metadata": {},
   "outputs": [],
   "source": [
    "data_before['Track_Household_exp_Before'].replace({'No':0,\n",
    "                                            'Maybe':1,\n",
    "                                            'Yes':2},inplace=True)"
   ]
  },
  {
   "cell_type": "code",
   "execution_count": 304,
   "metadata": {},
   "outputs": [],
   "source": [
    "data_before['Mode_of_transport_Before'].replace({'Public (Metro, govt e.t.c)':0,\n",
    "                                            'Private (cabs e.t.c)':1,\n",
    "                                            'Personal':2},inplace=True)"
   ]
  },
  {
   "cell_type": "code",
   "execution_count": 306,
   "metadata": {},
   "outputs": [],
   "source": [
    "data_before['Food_pref_Before'].replace({'Outside (Online & Offline)':0,\n",
    "                                            'Home - Cooked':1},inplace=True)"
   ]
  },
  {
   "cell_type": "code",
   "execution_count": 309,
   "metadata": {},
   "outputs": [],
   "source": [
    "data_before['Medi_pref_Before'].replace({'Homemade or Traditional (ayurvedic e.t.c)':0,\n",
    "                                            'English Medicine':1},inplace=True)"
   ]
  },
  {
   "cell_type": "code",
   "execution_count": 312,
   "metadata": {},
   "outputs": [],
   "source": [
    "data_before['Smoking_hab_Before'].replace({'Never smoked':0,\n",
    "                                            'Former smoker':1,\n",
    "                                            'Tried smoking':2,\n",
    "                                          'Current smoker':3},inplace=True)"
   ]
  },
  {
   "cell_type": "code",
   "execution_count": 315,
   "metadata": {},
   "outputs": [],
   "source": [
    "data_before['Drinking_hab_Before'].replace({'Never':0,\n",
    "                                            'Social drinker':1,\n",
    "                                            'Drink a lot':2},inplace=True)"
   ]
  },
  {
   "cell_type": "code",
   "execution_count": 319,
   "metadata": {},
   "outputs": [],
   "source": [
    "data_before['Sleeping_hab_Before'].replace({'late to bed and late to rise':3,\n",
    "                                            'Early to bed and late to rise':2,\n",
    "                                            'Late to bed and early to rise':1,\n",
    "                                          'Early to bed and early to rise':0},inplace=True)"
   ]
  },
  {
   "cell_type": "code",
   "execution_count": 322,
   "metadata": {},
   "outputs": [],
   "source": [
    "data_before['Spent_onli_Before'].replace({'No time at all':0,\n",
    "                                            'Less than an hour a day':1,\n",
    "                                            'Few hours a day':2,\n",
    "                                          'Most of the day':3},inplace=True)"
   ]
  },
  {
   "cell_type": "code",
   "execution_count": 324,
   "metadata": {},
   "outputs": [
    {
     "name": "stdout",
     "output_type": "stream",
     "text": [
      "<class 'pandas.core.frame.DataFrame'>\n",
      "RangeIndex: 551 entries, 0 to 550\n",
      "Data columns (total 43 columns):\n",
      "ID                             551 non-null int64\n",
      "Age                            549 non-null object\n",
      "Income                         532 non-null object\n",
      "Emp_stat_Before                512 non-null float64\n",
      "Gender                         548 non-null float64\n",
      "Marital_status                 545 non-null float64\n",
      "Loc                            544 non-null float64\n",
      "Notice_things_Before           541 non-null float64\n",
      "All_angles_Before              541 non-null float64\n",
      "Sincere_prod_Before            541 non-null float64\n",
      "Lonely_Before                  541 non-null float64\n",
      "Worry_health_Before            536 non-null float64\n",
      "Charity_Before                 541 non-null float64\n",
      "New_env_Before                 540 non-null float64\n",
      "Meeting_ppl_Before             539 non-null float64\n",
      "Hob_interests_Before           541 non-null float64\n",
      "Surveys_Before                 541 non-null float64\n",
      "Spent_onli_Before              543 non-null float64\n",
      "WFH_office_Before              536 non-null float64\n",
      "Enthu_Before                   544 non-null float64\n",
      "Smoking_hab_Before             543 non-null float64\n",
      "Drinking_hab_Before            542 non-null float64\n",
      "Sleeping_hab_Before            539 non-null float64\n",
      "Healthy_Lifestyle_Before       537 non-null float64\n",
      "Medi_pref_Before               517 non-null float64\n",
      "Pol_interest_Before            540 non-null float64\n",
      "Internet_interest_Before       540 non-null float64\n",
      "Economy_Manag_intrst_Before    536 non-null float64\n",
      "Medicine_intrst_Before         536 non-null float64\n",
      "Religion_intrst_Before         535 non-null float64\n",
      "Save_all_money_Before          534 non-null float64\n",
      "Brand_non-brand_Before         534 non-null float64\n",
      "Food_pref_Before               522 non-null float64\n",
      "Mode_of_transport_Before       520 non-null float64\n",
      "Basic_medications_Before       533 non-null float64\n",
      "Digital_content_Before         535 non-null float64\n",
      "Active_Investor_Before         534 non-null float64\n",
      "Edu_instit_fee_Before          536 non-null float64\n",
      "Spend_on_gadgets_Before        533 non-null float64\n",
      "spend_on_Luxury_Before         535 non-null float64\n",
      "Track_Household_exp_Before     531 non-null float64\n",
      "Domestic_help_Before           544 non-null float64\n",
      "Spending_kind_Before           531 non-null float64\n",
      "dtypes: float64(40), int64(1), object(2)\n",
      "memory usage: 185.2+ KB\n"
     ]
    }
   ],
   "source": [
    "data_before.info()"
   ]
  },
  {
   "cell_type": "markdown",
   "metadata": {},
   "source": [
    "#### DATA PRESENT (ENCODING)"
   ]
  },
  {
   "cell_type": "code",
   "execution_count": 462,
   "metadata": {},
   "outputs": [
    {
     "data": {
      "text/plain": [
       "(551, 46)"
      ]
     },
     "execution_count": 462,
     "metadata": {},
     "output_type": "execute_result"
    }
   ],
   "source": [
    "data_present.shape"
   ]
  },
  {
   "cell_type": "code",
   "execution_count": 463,
   "metadata": {},
   "outputs": [
    {
     "data": {
      "text/plain": [
       "Index(['ID', 'Age', 'Income', 'Emp_stat_Present', 'Gender', 'Marital_status',\n",
       "       'Loc', 'Notice_things_Present', 'All_angles_Present',\n",
       "       'Sincere_prod_Present', 'Lonely_Present', 'Worry_health_Present',\n",
       "       'Charity_Present', 'New_env_Present', 'Meeting_ppl_Present',\n",
       "       'Hob_interests_Present', 'Surveys_Present', 'Spent_onli_Present',\n",
       "       'WFH_office_Present', 'Ethu_Present', 'Income_Change',\n",
       "       'Smoking_hab_Present', 'Drinking_hab_Present', 'Sleeping_hab_Present',\n",
       "       'Healthy_Lifestyle_Present', 'Medi_pref_Present',\n",
       "       'Pol_interest_Present', 'Internet_interest_Present',\n",
       "       'Economy_Manag_intrst_Present', 'Medicine_intrst_Present',\n",
       "       'Religion_intrst_Present', 'Save_all_money_Present',\n",
       "       'Brand_non-brand_Present', 'Food_pref_Present',\n",
       "       'Mode_of_transport_Present', 'Basic_medications_Present',\n",
       "       'Digital_content_Present', 'Active_Investor_Present',\n",
       "       'Edu_instit_fee_Present', 'Emp_stat_Present.1',\n",
       "       'Change_in_data_consumption', 'Spend_on_gadgets_Present',\n",
       "       'Spend_on_Luxury_Present', 'Track_Household_exp_Present',\n",
       "       'Domestic_help_Present', 'Spending_kind_Present'],\n",
       "      dtype='object')"
      ]
     },
     "execution_count": 463,
     "metadata": {},
     "output_type": "execute_result"
    }
   ],
   "source": [
    "data_present.columns"
   ]
  },
  {
   "cell_type": "code",
   "execution_count": 464,
   "metadata": {},
   "outputs": [
    {
     "data": {
      "text/plain": [
       "array(['Unemployed (not currently looking for work)', 'Student', nan,\n",
       "       'Self-Employed', 'Unemployed (currently looking for work)',\n",
       "       'Public Sector Employee', 'Private Sector Employee'], dtype=object)"
      ]
     },
     "execution_count": 464,
     "metadata": {},
     "output_type": "execute_result"
    }
   ],
   "source": [
    "#### demographic columns encoding\n",
    "data_present['Emp_stat_Present'].unique()"
   ]
  },
  {
   "cell_type": "code",
   "execution_count": 465,
   "metadata": {},
   "outputs": [
    {
     "data": {
      "text/plain": [
       "Private Sector Employee                        238\n",
       "Student                                         86\n",
       "Self-Employed                                   59\n",
       "Public Sector Employee                          55\n",
       "Unemployed (currently looking for work)         45\n",
       "Unemployed (not currently looking for work)     16\n",
       "Name: Emp_stat_Present, dtype: int64"
      ]
     },
     "execution_count": 465,
     "metadata": {},
     "output_type": "execute_result"
    }
   ],
   "source": [
    "data_present['Emp_stat_Present'].value_counts()"
   ]
  },
  {
   "cell_type": "code",
   "execution_count": 466,
   "metadata": {},
   "outputs": [],
   "source": [
    "data_present['Emp_stat_Present'].replace({'Unemployed (not currently looking for work)' : 0,\n",
    "                                       'Student': 1,\n",
    "                                       'Private Sector Employee': 2,\n",
    "                                       'Self-Employed': 3,\n",
    "                                       'Public Sector Employee': 4,\n",
    "                                       'Unemployed (currently looking for work)': 5},inplace=True)"
   ]
  },
  {
   "cell_type": "code",
   "execution_count": 467,
   "metadata": {},
   "outputs": [
    {
     "data": {
      "text/plain": [
       "2.0    238\n",
       "1.0     86\n",
       "3.0     59\n",
       "4.0     55\n",
       "5.0     45\n",
       "0.0     16\n",
       "Name: Emp_stat_Present, dtype: int64"
      ]
     },
     "execution_count": 467,
     "metadata": {},
     "output_type": "execute_result"
    }
   ],
   "source": [
    "\n",
    "data_present['Emp_stat_Present'].value_counts()"
   ]
  },
  {
   "cell_type": "code",
   "execution_count": 468,
   "metadata": {},
   "outputs": [
    {
     "data": {
      "text/plain": [
       "array(['Male', 'Female', nan, 'Prefer not to say'], dtype=object)"
      ]
     },
     "execution_count": 468,
     "metadata": {},
     "output_type": "execute_result"
    }
   ],
   "source": [
    "data_present['Gender'].unique()\n"
   ]
  },
  {
   "cell_type": "code",
   "execution_count": 469,
   "metadata": {},
   "outputs": [],
   "source": [
    "data_present['Gender'].replace({'Male' : 0,'Female': 1, 'Prefer not to say' : 2\n",
    "                                       },inplace=True)\n"
   ]
  },
  {
   "cell_type": "code",
   "execution_count": 470,
   "metadata": {},
   "outputs": [
    {
     "data": {
      "text/plain": [
       "array(['Yes', 'No', nan], dtype=object)"
      ]
     },
     "execution_count": 470,
     "metadata": {},
     "output_type": "execute_result"
    }
   ],
   "source": [
    "data_present['Marital_status'].unique()\n"
   ]
  },
  {
   "cell_type": "code",
   "execution_count": 471,
   "metadata": {},
   "outputs": [],
   "source": [
    "data_present['Marital_status'].replace({'No' : 0,'Yes': 1\n",
    "                                       },inplace=True)\n"
   ]
  },
  {
   "cell_type": "code",
   "execution_count": 472,
   "metadata": {},
   "outputs": [
    {
     "data": {
      "text/plain": [
       "array(['Telangana', 'Mars', 'Karnataka', nan, 'paris', 'Andhra Pradesh',\n",
       "       'Punjab', 'Chandigarh', 'Jharkhand', 'USA', 'Madhya Pradesh',\n",
       "       'West Bengal', 'Chattisgarh', 'Maharashtra', 'Uttar Pradesh',\n",
       "       'Odisha', 'Haryana', 'Delhi', 'Tamil nadu', 'Hertfordshire',\n",
       "       'sydney', 'Melbourne', 'Gujarat ', 'Rajasthan', 'Bihar', 'Texas',\n",
       "       'Pennsylvania', 'singapore', 'Sikkim', 'Up', 'Shahdol', 'Mp',\n",
       "       'West Bengal ', 'Hyderabad', 'Himachal Pradesh', 'TELANGANA',\n",
       "       'Telengana', 'Madhupur (Telangana)', 'HYD', 'Andhra pradesh',\n",
       "       'Telangana ', 'Maharashtra ', 'Dubai', 'Puppalaguda',\n",
       "       'Andhra Pradesh ', 'UP', 'visakhapatnam', 'Vishakapatnam',\n",
       "       'Bhopal', 'US', 'Chhattisgarh', 'Pune', 'Bangalore', 'Bhilai',\n",
       "       'Tamilnadu', 'CG', 'New delhi', 'Chennai', 'Tamil Nadu'],\n",
       "      dtype=object)"
      ]
     },
     "execution_count": 472,
     "metadata": {},
     "output_type": "execute_result"
    }
   ],
   "source": [
    "data_present['Loc'].unique()\n"
   ]
  },
  {
   "cell_type": "code",
   "execution_count": 473,
   "metadata": {},
   "outputs": [],
   "source": [
    "data_present['Loc'].replace(dict.fromkeys(['Telangana','Mars','Karnataka','Andhra Pradesh','Tamil nadu','Hyderabad','TELANGANA',\n",
    "                             'Telengana','Telangana ','Madhupur (Telangana)','HYD','Andhra pradesh',\n",
    "                             'Puppalaguda','Andhra Pradesh ','visakhapatnam','Vishakapatnam','Bangalore',\n",
    "                             'Tamilnadu','Tamil Nadu','Chennai'], 'South India'),inplace=True)\n"
   ]
  },
  {
   "cell_type": "code",
   "execution_count": 474,
   "metadata": {},
   "outputs": [],
   "source": [
    "data_present['Loc'].replace(dict.fromkeys(['Punjab','Chandigarh','Jharkhand','Madhya Pradesh','West Bengal',\n",
    "                                          'Maharashtra','Chattisgarh','Uttar Pradesh','Odisha','Haryana',\n",
    "                                          'Delhi','Gujarat','Gujarat ','Rajasthan','Bihar','Sikkim','Up','Shahdol',\n",
    "                                          'Mp','West Bengal ','Himachal Pradesh','Maharashtra ',\n",
    "                                          'UP','Bhopal','Chhattisgarh','Pune','Bhilai','CG','New delhi'],\n",
    "                                         'North India'),inplace=True)\n"
   ]
  },
  {
   "cell_type": "code",
   "execution_count": 475,
   "metadata": {},
   "outputs": [],
   "source": [
    "data_present['Loc'].replace(dict.fromkeys(['paris','USA','Texas','Hertfordshire','sydney','Melbourne','Pennsylvania',\n",
    "                            'singapore','Dubai','US'],'Foreign'),inplace=True)\n"
   ]
  },
  {
   "cell_type": "code",
   "execution_count": 476,
   "metadata": {},
   "outputs": [
    {
     "data": {
      "text/plain": [
       "array(['South India', nan, 'Foreign', 'North India'], dtype=object)"
      ]
     },
     "execution_count": 476,
     "metadata": {},
     "output_type": "execute_result"
    }
   ],
   "source": [
    "data_present['Loc'].unique()\n"
   ]
  },
  {
   "cell_type": "code",
   "execution_count": 477,
   "metadata": {},
   "outputs": [],
   "source": [
    "data_present['Loc'].replace({'North India' : 0,'South India': 1,'Foreign':2\n",
    "                                       },inplace=True)\n"
   ]
  },
  {
   "cell_type": "code",
   "execution_count": 478,
   "metadata": {},
   "outputs": [
    {
     "data": {
      "text/plain": [
       "array(['Strongly agree', 'Strongly disagree', 'Neutral', 'Agree', nan,\n",
       "       'Disagree'], dtype=object)"
      ]
     },
     "execution_count": 478,
     "metadata": {},
     "output_type": "execute_result"
    }
   ],
   "source": [
    "### personality traits encoding, spending patterns - options strongly disagree to strongly agree (1,2,3,4,5)\n",
    "data_present['Notice_things_Present'].unique()\n"
   ]
  },
  {
   "cell_type": "code",
   "execution_count": 479,
   "metadata": {},
   "outputs": [],
   "source": [
    "cols = ['Notice_things_Present', 'All_angles_Present',\n",
    "       'Sincere_prod_Present', 'Lonely_Present', 'Worry_health_Present',\n",
    "       'Charity_Present', 'New_env_Present', 'Meeting_ppl_Present',\n",
    "       'Hob_interests_Present', 'Surveys_Present','Ethu_Present','Healthy_Lifestyle_Present',\n",
    "        'Save_all_money_Present', 'Active_Investor_Present','Edu_instit_fee_Present', 'Spend_on_gadgets_Present']\n"
   ]
  },
  {
   "cell_type": "code",
   "execution_count": 480,
   "metadata": {},
   "outputs": [
    {
     "name": "stdout",
     "output_type": "stream",
     "text": [
      "['Strongly agree' 'Strongly disagree' 'Neutral' 'Agree' nan 'Disagree']\n",
      "['Strongly Agree' 'Agree' 'Neutral' nan 'Disagree' 'Strongly disagree']\n",
      "['Strongly agree' 'Agree' 'Neutral' nan 'Strongly disagree' 'Disagree']\n",
      "['Strongly disagree' 'Strongly Agree' 'Agree' nan 'Neutral' 'Disagree']\n",
      "['Strongly Agree' 'Strongly disagree' 'Neutral' 'Agree' nan 'Disagree']\n",
      "['Disagree' 'Strongly disagree' 'Agree' 'Neutral' nan 'Strongly Agree']\n",
      "['Disagree' 'Strongly disagree' 'Neutral' 'Agree' nan 'Strongly Agree']\n",
      "['Strongly Agree' 'Strongly disagree' 'Neutral' 'Disagree' 'Agree' nan]\n",
      "['Disagree' 'Strongly disagree' 'Strongly agree' 'Neutral' 'Agree' nan]\n",
      "['Neutral' 'Strongly disagree' 'Agree' 'Disagree' nan 'Strongly agree']\n",
      "['Neutral' 'Strongly disagree' 'Strongly Agree' 'Agree' nan 'Disagree']\n",
      "['Strongly agree' 'Strongly Disagree' 'Neutral' 'Agree' nan 'Disagree']\n",
      "['Strongly Agree' 'Strongly disagree' 'Neutral' 'Agree' nan 'Disagree']\n",
      "['Disagree' 'Strongly disagree' 'Strongly Agree' 'Neutral' nan 'Agree']\n",
      "['Neutral' 'Strongly disagree' 'Agree' nan 'Strongly agree' 'Disagree']\n",
      "['Agree' 'Strongly disagree' 'Neutral' nan 'Strongly agree' 'Disagree']\n"
     ]
    }
   ],
   "source": [
    "for i in range(len(cols)):\n",
    "    print(data_present[cols[i]].unique())\n"
   ]
  },
  {
   "cell_type": "code",
   "execution_count": 481,
   "metadata": {},
   "outputs": [],
   "source": [
    "for i in [0,2,8,9,11,14,15]:\n",
    "    data_present[cols[i]].replace({'Strongly agree':'Strongly Agree'},inplace=True)"
   ]
  },
  {
   "cell_type": "code",
   "execution_count": 482,
   "metadata": {},
   "outputs": [],
   "source": [
    "data_present['Healthy_Lifestyle_Present'].replace({'Strongly Disagree':'Strongly disagree'},inplace=True)"
   ]
  },
  {
   "cell_type": "code",
   "execution_count": 483,
   "metadata": {},
   "outputs": [],
   "source": [
    "for i in range(len(cols)):\n",
    "    data_present[cols[i]].replace({'Strongly disagree' : 1,'Disagree': 2,'Neutral':3,\n",
    "                                  'Agree':4, 'Strongly Agree':5\n",
    "                                       },inplace=True)\n"
   ]
  },
  {
   "cell_type": "code",
   "execution_count": 484,
   "metadata": {},
   "outputs": [],
   "source": [
    "#### Interests - encode not interested to very interested (1,2,3,4)\n",
    "cols_intrst = ['Pol_interest_Present',\n",
    "       'Internet_interest_Present', 'Economy_Manag_intrst_Present',\n",
    "       'Medicine_intrst_Present', 'Religion_intrst_Present'] \n"
   ]
  },
  {
   "cell_type": "code",
   "execution_count": 485,
   "metadata": {},
   "outputs": [
    {
     "name": "stdout",
     "output_type": "stream",
     "text": [
      "['Very interested' 'Not interested' 'Moderately interested' nan 'Neutral']\n",
      "['Moderately interested' 'Very interested' 'Neutral' nan 'Not interested']\n",
      "['Very interested' 'Not interested' 'Neutral' 'Moderately interested' nan]\n",
      "['Very interested' 'Not interested' 'Neutral' 'Moderately interested' nan]\n",
      "['Neutral' 'Very interested' 'Not interested' nan 'Moderately interested']\n"
     ]
    }
   ],
   "source": [
    "for i in range(len(cols_intrst)):\n",
    "    print(data_present[cols_intrst[i]].unique())\n"
   ]
  },
  {
   "cell_type": "code",
   "execution_count": 486,
   "metadata": {},
   "outputs": [],
   "source": [
    "for i in range(len(cols_intrst)):\n",
    "    data_present[cols_intrst[i]].replace({'Not interested' : 1,'Neutral': 2,'Moderately interested':3,\n",
    "                                  'Very interested':4\n",
    "                                       },inplace=True)\n"
   ]
  },
  {
   "cell_type": "code",
   "execution_count": 487,
   "metadata": {},
   "outputs": [],
   "source": [
    "#### Other columns - encode  Disagree , neutral , agree (2,3,4)\n",
    "\n",
    "cols_othrs = ['WFH_office_Present','Brand_non-brand_Present','Basic_medications_Present',\n",
    "              'Digital_content_Present','Spend_on_Luxury_Present']\n"
   ]
  },
  {
   "cell_type": "code",
   "execution_count": 488,
   "metadata": {},
   "outputs": [
    {
     "name": "stdout",
     "output_type": "stream",
     "text": [
      "['Disagree' 'Agree' 'Neutral' nan]\n",
      "['Disagree' 'Agree' 'Neutral' nan]\n",
      "['Agree' 'Disagree' 'Neutral' nan]\n",
      "['Agree' 'Disagree' 'Neutral' nan]\n",
      "['Disagree' 'Neutral' 'Agree' nan]\n"
     ]
    }
   ],
   "source": [
    "for i in range(len(cols_othrs)):\n",
    "    print(data_present[cols_othrs[i]].unique())\n"
   ]
  },
  {
   "cell_type": "code",
   "execution_count": 489,
   "metadata": {},
   "outputs": [],
   "source": [
    "for i in range(len(cols_othrs)):\n",
    "    data_present[cols_othrs[i]].replace({'Disagree': 2,'Neutral':3,\n",
    "                                  'Agree':4\n",
    "                                       },inplace=True)\n"
   ]
  },
  {
   "cell_type": "code",
   "execution_count": 490,
   "metadata": {},
   "outputs": [],
   "source": [
    "#### encode Spending_kind_Before,Track_Household_exp_Before ,Mode_of_transport_Before,\n",
    "#### Food_pref_Before,Medi_pref_Before\n",
    "#### Smoking_hab_Before,Drinking_hab_Before,Sleeping_hab_Before,Spent_onli_Before\n",
    "cols_misc = ['Spending_kind_Present','Track_Household_exp_Present' ,'Mode_of_transport_Present','Food_pref_Present',\n",
    "             'Medi_pref_Present','Smoking_hab_Present','Drinking_hab_Present','Sleeping_hab_Present',\n",
    "             'Spent_onli_Present']\n"
   ]
  },
  {
   "cell_type": "code",
   "execution_count": 491,
   "metadata": {},
   "outputs": [
    {
     "name": "stdout",
     "output_type": "stream",
     "text": [
      "['Medium spending' 'High spending' 'Low spending' nan 'medium spending'\n",
      " 'low spending' 'high spending']\n",
      "['Yes' 'No' nan 'Maybe']\n",
      "['Personal' 'Private (cabs e.t.c)' 'Public (Metro, govt e.t.c)' nan]\n",
      "['Home - Cooked' 'Outside (Online & Offline)' nan]\n",
      "['English Medicine' nan 'Homemade or Traditional (ayurvedic e.t.c)']\n",
      "['Never smoked' 'Current smoker' 'Tried smoking' nan 'Former smoker']\n",
      "['Drink a lot' 'Never' 'Social drinker' nan]\n",
      "['Early to bed and late to rise' 'late to bed and late to rise'\n",
      " 'Late to bed and early to rise' 'Early to bed and early to rise' nan]\n",
      "['Most of the day' 'Few hours a day' nan 'Less than an hour a day'\n",
      " 'No time at all']\n"
     ]
    }
   ],
   "source": [
    "for i in range(len(cols_misc)):\n",
    "    print(data_present[cols_misc[i]].unique())\n",
    "data_present['Spending_kind_Present'].replace({'low spending':0,\n",
    "                                             'Low spending':0,\n",
    "                                            'Medium spending':1,\n",
    "                                            'medium spending':1,\n",
    "                                            'High spending':2,\n",
    "                                            'high spending':2},inplace=True)\n"
   ]
  },
  {
   "cell_type": "code",
   "execution_count": 492,
   "metadata": {},
   "outputs": [],
   "source": [
    "data_present['Track_Household_exp_Present'].replace({'No':0,\n",
    "                                            'Maybe':1,\n",
    "                                            'Yes':2},inplace=True)\n"
   ]
  },
  {
   "cell_type": "code",
   "execution_count": 493,
   "metadata": {},
   "outputs": [],
   "source": [
    "data_present['Mode_of_transport_Present'].replace({'Public (Metro, govt e.t.c)':0,\n",
    "                                            'Private (cabs e.t.c)':1,\n",
    "                                            'Personal':2},inplace=True)\n"
   ]
  },
  {
   "cell_type": "code",
   "execution_count": 494,
   "metadata": {},
   "outputs": [],
   "source": [
    "data_present['Food_pref_Present'].replace({'Outside (Online & Offline)':0,\n",
    "                                            'Home - Cooked':1},inplace=True)\n"
   ]
  },
  {
   "cell_type": "code",
   "execution_count": 495,
   "metadata": {},
   "outputs": [],
   "source": [
    "data_present['Medi_pref_Present'].replace({'Homemade or Traditional (ayurvedic e.t.c)':0,\n",
    "                                            'English Medicine':1},inplace=True)\n",
    "                               "
   ]
  },
  {
   "cell_type": "code",
   "execution_count": 496,
   "metadata": {},
   "outputs": [],
   "source": [
    "data_present['Smoking_hab_Present'].replace({'Never smoked':0,\n",
    "                                            'Former smoker':1,\n",
    "                                            'Tried smoking':2,\n",
    "                                          'Current smoker':3},inplace=True)\n"
   ]
  },
  {
   "cell_type": "code",
   "execution_count": 497,
   "metadata": {},
   "outputs": [],
   "source": [
    "data_present['Drinking_hab_Present'].replace({'Never':0,\n",
    "                                            'Social drinker':1,\n",
    "                                            'Drink a lot':2},inplace=True)\n"
   ]
  },
  {
   "cell_type": "code",
   "execution_count": 498,
   "metadata": {},
   "outputs": [],
   "source": [
    "data_present['Sleeping_hab_Present'].replace({'late to bed and late to rise':3,\n",
    "                                            'Early to bed and late to rise':2,\n",
    "                                            'Late to bed and early to rise':1,\n",
    "                                          'Early to bed and early to rise':0},inplace=True)\n"
   ]
  },
  {
   "cell_type": "code",
   "execution_count": 499,
   "metadata": {},
   "outputs": [],
   "source": [
    "data_present['Spent_onli_Present'].replace({'No time at all':0,\n",
    "                                            'Less than an hour a day':1,\n",
    "                                            'Few hours a day':2,\n",
    "                                          'Most of the day':3},inplace=True)"
   ]
  },
  {
   "cell_type": "code",
   "execution_count": 500,
   "metadata": {},
   "outputs": [],
   "source": [
    "data_present.drop('Emp_stat_Present.1',axis=1,inplace=True)"
   ]
  },
  {
   "cell_type": "code",
   "execution_count": 501,
   "metadata": {},
   "outputs": [
    {
     "data": {
      "text/plain": [
       "array(['Decreased', 'Same or no effect', nan, 'Increased'], dtype=object)"
      ]
     },
     "execution_count": 501,
     "metadata": {},
     "output_type": "execute_result"
    }
   ],
   "source": [
    "data_present['Income_Change'].unique()"
   ]
  },
  {
   "cell_type": "code",
   "execution_count": 502,
   "metadata": {},
   "outputs": [],
   "source": [
    "data_present['Income_Change'].replace({'Decreased':0,\n",
    "                                            'Same or no effect':1,\n",
    "                                            'Increased':2},inplace=True)"
   ]
  },
  {
   "cell_type": "code",
   "execution_count": 503,
   "metadata": {},
   "outputs": [
    {
     "data": {
      "text/plain": [
       "array(['same ', 'increased', nan, 'decreased'], dtype=object)"
      ]
     },
     "execution_count": 503,
     "metadata": {},
     "output_type": "execute_result"
    }
   ],
   "source": [
    "data_present['Change_in_data_consumption'].unique()"
   ]
  },
  {
   "cell_type": "code",
   "execution_count": 504,
   "metadata": {},
   "outputs": [],
   "source": [
    "data_present['Change_in_data_consumption'].replace({'decreased':0,\n",
    "                                            'same ':1,\n",
    "                                            'increased':2},inplace=True)"
   ]
  },
  {
   "cell_type": "code",
   "execution_count": 505,
   "metadata": {},
   "outputs": [
    {
     "name": "stdout",
     "output_type": "stream",
     "text": [
      "<class 'pandas.core.frame.DataFrame'>\n",
      "RangeIndex: 551 entries, 0 to 550\n",
      "Data columns (total 45 columns):\n",
      "ID                              551 non-null int64\n",
      "Age                             549 non-null object\n",
      "Income                          532 non-null object\n",
      "Emp_stat_Present                499 non-null float64\n",
      "Gender                          548 non-null float64\n",
      "Marital_status                  545 non-null float64\n",
      "Loc                             544 non-null float64\n",
      "Notice_things_Present           541 non-null float64\n",
      "All_angles_Present              537 non-null float64\n",
      "Sincere_prod_Present            545 non-null float64\n",
      "Lonely_Present                  544 non-null float64\n",
      "Worry_health_Present            542 non-null float64\n",
      "Charity_Present                 540 non-null float64\n",
      "New_env_Present                 544 non-null float64\n",
      "Meeting_ppl_Present             540 non-null float64\n",
      "Hob_interests_Present           544 non-null float64\n",
      "Surveys_Present                 540 non-null float64\n",
      "Spent_onli_Present              547 non-null float64\n",
      "WFH_office_Present              541 non-null float64\n",
      "Ethu_Present                    543 non-null float64\n",
      "Income_Change                   520 non-null float64\n",
      "Smoking_hab_Present             543 non-null float64\n",
      "Drinking_hab_Present            546 non-null float64\n",
      "Sleeping_hab_Present            542 non-null float64\n",
      "Healthy_Lifestyle_Present       542 non-null float64\n",
      "Medi_pref_Present               468 non-null float64\n",
      "Pol_interest_Present            542 non-null float64\n",
      "Internet_interest_Present       543 non-null float64\n",
      "Economy_Manag_intrst_Present    538 non-null float64\n",
      "Medicine_intrst_Present         538 non-null float64\n",
      "Religion_intrst_Present         539 non-null float64\n",
      "Save_all_money_Present          536 non-null float64\n",
      "Brand_non-brand_Present         538 non-null float64\n",
      "Food_pref_Present               525 non-null float64\n",
      "Mode_of_transport_Present       524 non-null float64\n",
      "Basic_medications_Present       537 non-null float64\n",
      "Digital_content_Present         539 non-null float64\n",
      "Active_Investor_Present         538 non-null float64\n",
      "Edu_instit_fee_Present          537 non-null float64\n",
      "Change_in_data_consumption      535 non-null float64\n",
      "Spend_on_gadgets_Present        535 non-null float64\n",
      "Spend_on_Luxury_Present         535 non-null float64\n",
      "Track_Household_exp_Present     532 non-null float64\n",
      "Domestic_help_Present           542 non-null float64\n",
      "Spending_kind_Present           534 non-null float64\n",
      "dtypes: float64(42), int64(1), object(2)\n",
      "memory usage: 193.8+ KB\n"
     ]
    }
   ],
   "source": [
    "data_present.info()"
   ]
  },
  {
   "cell_type": "code",
   "execution_count": 509,
   "metadata": {},
   "outputs": [
    {
     "data": {
      "text/plain": [
       "array(['55+', '20-25', '40-55', '25-30', '30-35', '35-40', nan],\n",
       "      dtype=object)"
      ]
     },
     "execution_count": 509,
     "metadata": {},
     "output_type": "execute_result"
    }
   ],
   "source": [
    "data_before['Age'].unique()"
   ]
  },
  {
   "cell_type": "code",
   "execution_count": null,
   "metadata": {},
   "outputs": [],
   "source": [
    "data_before['Age'].replace({'55+':5,\n",
    "                               '40-55':4,\n",
    "                               '35-40':3,\n",
    "                               \"20-25\":0,\n",
    "                              '25-30':1,\n",
    "                              '30-35':2},inplace=True)"
   ]
  },
  {
   "cell_type": "code",
   "execution_count": null,
   "metadata": {},
   "outputs": [],
   "source": [
    "data_present['Age'].replace({'55+':5,\n",
    "                               '40-55':4,\n",
    "                               '35-40':3,\n",
    "                               \"20-25\":0,\n",
    "                              '25-30':1,\n",
    "                              '30-35':2},inplace=True)"
   ]
  },
  {
   "cell_type": "code",
   "execution_count": null,
   "metadata": {},
   "outputs": [],
   "source": []
  },
  {
   "cell_type": "code",
   "execution_count": 510,
   "metadata": {},
   "outputs": [
    {
     "data": {
      "text/plain": [
       "array(['3 - 5 lakh per annum', '20+ lakh per annum',\n",
       "       '5 - 10 lakh per annum', 'Under 3 lakh per annum',\n",
       "       \"I don't earn right now (maybe in future)\",\n",
       "       '10 - 20 lakh per annum', nan], dtype=object)"
      ]
     },
     "execution_count": 510,
     "metadata": {},
     "output_type": "execute_result"
    }
   ],
   "source": [
    "data_before['Income'].unique()"
   ]
  },
  {
   "cell_type": "code",
   "execution_count": 511,
   "metadata": {},
   "outputs": [],
   "source": [
    "data_before['Income'].replace({'5 - 10 lakh per annum':3,\n",
    "                               '3 - 5 lakh per annum':2,\n",
    "                               'Under 3 lakh per annum':1,\n",
    "                               \"I don't earn right now (maybe in future)\":0,\n",
    "                              '10 - 20 lakh per annum':4,\n",
    "                              '20+ lakh per annum':5},inplace=True)"
   ]
  },
  {
   "cell_type": "code",
   "execution_count": 512,
   "metadata": {},
   "outputs": [],
   "source": [
    "data_present['Income'].replace({'5 - 10 lakh per annum':3,\n",
    "                               '3 - 5 lakh per annum':2,\n",
    "                               'Under 3 lakh per annum':1,\n",
    "                               \"I don't earn right now (maybe in future)\":0,\n",
    "                              '10 - 20 lakh per annum':4,\n",
    "                              '20+ lakh per annum':5},inplace=True)"
   ]
  },
  {
   "cell_type": "code",
   "execution_count": null,
   "metadata": {},
   "outputs": [],
   "source": [
    "'3 - 5 lakh per annum' = 2\n",
    "'20+ lakh per annum' = 5\n",
    "'5 - 10 lakh per annum' = 3\n",
    "'Under 3 lakh per annum' = 1\n",
    "\"I don't earn right now (maybe in future)\" = 0\n",
    "'10 - 20 lakh per annum' = 4"
   ]
  },
  {
   "cell_type": "code",
   "execution_count": 507,
   "metadata": {},
   "outputs": [],
   "source": [
    "### export cleaned and encoded sheets to some other excel file \n",
    "data_before.to_csv(\"Dataset-Before-Encoded.csv\")"
   ]
  },
  {
   "cell_type": "code",
   "execution_count": 508,
   "metadata": {},
   "outputs": [],
   "source": [
    "data_present.to_csv(\"Dataset-Present-Encoded.csv\")"
   ]
  },
  {
   "cell_type": "code",
   "execution_count": null,
   "metadata": {},
   "outputs": [],
   "source": []
  }
 ],
 "metadata": {
  "kernelspec": {
   "display_name": "Python 3",
   "language": "python",
   "name": "python3"
  },
  "language_info": {
   "codemirror_mode": {
    "name": "ipython",
    "version": 3
   },
   "file_extension": ".py",
   "mimetype": "text/x-python",
   "name": "python",
   "nbconvert_exporter": "python",
   "pygments_lexer": "ipython3",
   "version": "3.7.4"
  }
 },
 "nbformat": 4,
 "nbformat_minor": 2
}
