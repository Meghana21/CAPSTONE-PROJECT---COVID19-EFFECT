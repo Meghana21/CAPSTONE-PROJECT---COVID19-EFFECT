{
 "cells": [
  {
   "cell_type": "code",
   "execution_count": 1,
   "metadata": {},
   "outputs": [],
   "source": [
    "import numpy as np\n",
    "import pandas as pd\n",
    "import matplotlib.pyplot as plt\n",
    "import seaborn as sns"
   ]
  },
  {
   "cell_type": "code",
   "execution_count": 3,
   "metadata": {},
   "outputs": [],
   "source": [
    "data_present=pd.read_excel('modelling_present_KNN.xlsx')"
   ]
  },
  {
   "cell_type": "code",
   "execution_count": 4,
   "metadata": {},
   "outputs": [
    {
     "data": {
      "text/html": [
       "<div>\n",
       "<style scoped>\n",
       "    .dataframe tbody tr th:only-of-type {\n",
       "        vertical-align: middle;\n",
       "    }\n",
       "\n",
       "    .dataframe tbody tr th {\n",
       "        vertical-align: top;\n",
       "    }\n",
       "\n",
       "    .dataframe thead th {\n",
       "        text-align: right;\n",
       "    }\n",
       "</style>\n",
       "<table border=\"1\" class=\"dataframe\">\n",
       "  <thead>\n",
       "    <tr style=\"text-align: right;\">\n",
       "      <th></th>\n",
       "      <th>Unnamed: 0</th>\n",
       "      <th>Age</th>\n",
       "      <th>Income</th>\n",
       "      <th>Emp_stat_Present</th>\n",
       "      <th>Gender</th>\n",
       "      <th>Marital_status</th>\n",
       "      <th>Loc</th>\n",
       "      <th>Notice_things_Present</th>\n",
       "      <th>All_angles_Present</th>\n",
       "      <th>Sincere_prod_Present</th>\n",
       "      <th>...</th>\n",
       "      <th>Digital_content_Present</th>\n",
       "      <th>Active_Investor_Present</th>\n",
       "      <th>Edu_instit_fee_Present</th>\n",
       "      <th>Change_in_data_consumption</th>\n",
       "      <th>Spend_on_gadgets_Present</th>\n",
       "      <th>Spend_on_Luxury_Present</th>\n",
       "      <th>Track_Household_exp_Present</th>\n",
       "      <th>Domestic_help_Present</th>\n",
       "      <th>Spending_kind_Present</th>\n",
       "      <th>ID</th>\n",
       "    </tr>\n",
       "  </thead>\n",
       "  <tbody>\n",
       "    <tr>\n",
       "      <th>0</th>\n",
       "      <td>0</td>\n",
       "      <td>5</td>\n",
       "      <td>2</td>\n",
       "      <td>0</td>\n",
       "      <td>0</td>\n",
       "      <td>1</td>\n",
       "      <td>1</td>\n",
       "      <td>5</td>\n",
       "      <td>5</td>\n",
       "      <td>5</td>\n",
       "      <td>...</td>\n",
       "      <td>3</td>\n",
       "      <td>2</td>\n",
       "      <td>3</td>\n",
       "      <td>1</td>\n",
       "      <td>4</td>\n",
       "      <td>1</td>\n",
       "      <td>2</td>\n",
       "      <td>1</td>\n",
       "      <td>1</td>\n",
       "      <td>1</td>\n",
       "    </tr>\n",
       "    <tr>\n",
       "      <th>1</th>\n",
       "      <td>1</td>\n",
       "      <td>0</td>\n",
       "      <td>3</td>\n",
       "      <td>3</td>\n",
       "      <td>0</td>\n",
       "      <td>0</td>\n",
       "      <td>1</td>\n",
       "      <td>1</td>\n",
       "      <td>5</td>\n",
       "      <td>5</td>\n",
       "      <td>...</td>\n",
       "      <td>1</td>\n",
       "      <td>5</td>\n",
       "      <td>4</td>\n",
       "      <td>2</td>\n",
       "      <td>3</td>\n",
       "      <td>2</td>\n",
       "      <td>0</td>\n",
       "      <td>2</td>\n",
       "      <td>1</td>\n",
       "      <td>3</td>\n",
       "    </tr>\n",
       "    <tr>\n",
       "      <th>2</th>\n",
       "      <td>2</td>\n",
       "      <td>4</td>\n",
       "      <td>1</td>\n",
       "      <td>4</td>\n",
       "      <td>0</td>\n",
       "      <td>1</td>\n",
       "      <td>1</td>\n",
       "      <td>5</td>\n",
       "      <td>5</td>\n",
       "      <td>4</td>\n",
       "      <td>...</td>\n",
       "      <td>3</td>\n",
       "      <td>3</td>\n",
       "      <td>3</td>\n",
       "      <td>1</td>\n",
       "      <td>3</td>\n",
       "      <td>2</td>\n",
       "      <td>2</td>\n",
       "      <td>0</td>\n",
       "      <td>0</td>\n",
       "      <td>4</td>\n",
       "    </tr>\n",
       "    <tr>\n",
       "      <th>3</th>\n",
       "      <td>3</td>\n",
       "      <td>0</td>\n",
       "      <td>0</td>\n",
       "      <td>2</td>\n",
       "      <td>1</td>\n",
       "      <td>0</td>\n",
       "      <td>1</td>\n",
       "      <td>3</td>\n",
       "      <td>4</td>\n",
       "      <td>4</td>\n",
       "      <td>...</td>\n",
       "      <td>3</td>\n",
       "      <td>3</td>\n",
       "      <td>4</td>\n",
       "      <td>2</td>\n",
       "      <td>4</td>\n",
       "      <td>3</td>\n",
       "      <td>1</td>\n",
       "      <td>0</td>\n",
       "      <td>1</td>\n",
       "      <td>5</td>\n",
       "    </tr>\n",
       "    <tr>\n",
       "      <th>4</th>\n",
       "      <td>4</td>\n",
       "      <td>1</td>\n",
       "      <td>0</td>\n",
       "      <td>1</td>\n",
       "      <td>1</td>\n",
       "      <td>0</td>\n",
       "      <td>1</td>\n",
       "      <td>4</td>\n",
       "      <td>5</td>\n",
       "      <td>5</td>\n",
       "      <td>...</td>\n",
       "      <td>2</td>\n",
       "      <td>3</td>\n",
       "      <td>4</td>\n",
       "      <td>2</td>\n",
       "      <td>3</td>\n",
       "      <td>2</td>\n",
       "      <td>2</td>\n",
       "      <td>0</td>\n",
       "      <td>0</td>\n",
       "      <td>6</td>\n",
       "    </tr>\n",
       "  </tbody>\n",
       "</table>\n",
       "<p>5 rows × 46 columns</p>\n",
       "</div>"
      ],
      "text/plain": [
       "   Unnamed: 0  Age  Income  Emp_stat_Present  Gender  Marital_status  Loc  \\\n",
       "0           0    5       2                 0       0               1    1   \n",
       "1           1    0       3                 3       0               0    1   \n",
       "2           2    4       1                 4       0               1    1   \n",
       "3           3    0       0                 2       1               0    1   \n",
       "4           4    1       0                 1       1               0    1   \n",
       "\n",
       "   Notice_things_Present  All_angles_Present  Sincere_prod_Present  ...  \\\n",
       "0                      5                   5                     5  ...   \n",
       "1                      1                   5                     5  ...   \n",
       "2                      5                   5                     4  ...   \n",
       "3                      3                   4                     4  ...   \n",
       "4                      4                   5                     5  ...   \n",
       "\n",
       "   Digital_content_Present  Active_Investor_Present  Edu_instit_fee_Present  \\\n",
       "0                        3                        2                       3   \n",
       "1                        1                        5                       4   \n",
       "2                        3                        3                       3   \n",
       "3                        3                        3                       4   \n",
       "4                        2                        3                       4   \n",
       "\n",
       "   Change_in_data_consumption  Spend_on_gadgets_Present  \\\n",
       "0                           1                         4   \n",
       "1                           2                         3   \n",
       "2                           1                         3   \n",
       "3                           2                         4   \n",
       "4                           2                         3   \n",
       "\n",
       "   Spend_on_Luxury_Present  Track_Household_exp_Present  \\\n",
       "0                        1                            2   \n",
       "1                        2                            0   \n",
       "2                        2                            2   \n",
       "3                        3                            1   \n",
       "4                        2                            2   \n",
       "\n",
       "   Domestic_help_Present  Spending_kind_Present  ID  \n",
       "0                      1                      1   1  \n",
       "1                      2                      1   3  \n",
       "2                      0                      0   4  \n",
       "3                      0                      1   5  \n",
       "4                      0                      0   6  \n",
       "\n",
       "[5 rows x 46 columns]"
      ]
     },
     "execution_count": 4,
     "metadata": {},
     "output_type": "execute_result"
    }
   ],
   "source": [
    "data_present.head()"
   ]
  },
  {
   "cell_type": "code",
   "execution_count": 5,
   "metadata": {},
   "outputs": [],
   "source": [
    "data_present.drop(columns=['Unnamed: 0','ID'],inplace=True)"
   ]
  },
  {
   "cell_type": "code",
   "execution_count": 6,
   "metadata": {},
   "outputs": [],
   "source": [
    "from scipy.stats import chi2_contingency\n",
    "\n",
    "sigini_vars=[]\n",
    "\n",
    "for i in data_present.columns:\n",
    "    #contingency table\n",
    "    table=pd.crosstab(index=data_present[i],columns=data_present['Spending_kind_Present'])\n",
    "    \n",
    "    #chi-sqaure goodness of fit test\n",
    "    stats,p_value,dof,ideal_exp=chi2_contingency(table)\n",
    "    \n",
    "    if p_value<0.05:\n",
    "        sigini_vars.append(i)"
   ]
  },
  {
   "cell_type": "code",
   "execution_count": 9,
   "metadata": {},
   "outputs": [],
   "source": [
    "from sklearn.tree import DecisionTreeClassifier\n",
    "from sklearn.model_selection import train_test_split\n",
    "from sklearn.model_selection import cross_val_score\n",
    "from sklearn.model_selection import KFold\n",
    "from sklearn.metrics import classification_report,confusion_matrix"
   ]
  },
  {
   "cell_type": "code",
   "execution_count": 10,
   "metadata": {},
   "outputs": [],
   "source": [
    "from imblearn.over_sampling import SMOTE"
   ]
  },
  {
   "cell_type": "code",
   "execution_count": 11,
   "metadata": {},
   "outputs": [],
   "source": [
    "#significant featues used\n",
    "X_sig=data_present[sigini_vars].drop(columns='Spending_kind_Present')\n",
    "y_sig=data_present['Spending_kind_Present']"
   ]
  },
  {
   "cell_type": "code",
   "execution_count": 12,
   "metadata": {},
   "outputs": [],
   "source": [
    "X_train_signi, X_test_signi, y_train_signi, y_test_signi = train_test_split(X_sig, y_sig, test_size=0.3, random_state=1)"
   ]
  },
  {
   "cell_type": "code",
   "execution_count": 13,
   "metadata": {},
   "outputs": [],
   "source": [
    "sm = SMOTE(random_state=42) \n",
    "X_res_signi, Y_res_signi = sm.fit_sample(X_train_signi, y_train_signi)"
   ]
  },
  {
   "cell_type": "code",
   "execution_count": 14,
   "metadata": {},
   "outputs": [
    {
     "data": {
      "text/plain": [
       "2    186\n",
       "1    186\n",
       "0    186\n",
       "Name: Spending_kind_Present, dtype: int64"
      ]
     },
     "execution_count": 14,
     "metadata": {},
     "output_type": "execute_result"
    }
   ],
   "source": [
    "Y_res_signi.value_counts() "
   ]
  },
  {
   "cell_type": "code",
   "execution_count": 15,
   "metadata": {},
   "outputs": [],
   "source": [
    "DT=DecisionTreeClassifier() "
   ]
  },
  {
   "cell_type": "code",
   "execution_count": 17,
   "metadata": {},
   "outputs": [],
   "source": [
    "#cross_val_training score\n",
    "kfold=KFold(shuffle=True,n_splits=3,random_state=0) \n",
    "scores=cross_val_score(DT,X_res_signi, Y_res_signi,cv=kfold,scoring='f1_weighted') "
   ]
  },
  {
   "cell_type": "code",
   "execution_count": 18,
   "metadata": {},
   "outputs": [
    {
     "name": "stdout",
     "output_type": "stream",
     "text": [
      "0.7069644865073884\n",
      "0.0007704585599599057\n"
     ]
    }
   ],
   "source": [
    "print(scores.mean())\n",
    "print(scores.var())"
   ]
  },
  {
   "cell_type": "code",
   "execution_count": 19,
   "metadata": {},
   "outputs": [
    {
     "data": {
      "text/plain": [
       "DecisionTreeClassifier()"
      ]
     },
     "execution_count": 19,
     "metadata": {},
     "output_type": "execute_result"
    }
   ],
   "source": [
    "DT.fit(X_res_signi, Y_res_signi)"
   ]
  },
  {
   "cell_type": "code",
   "execution_count": 20,
   "metadata": {},
   "outputs": [
    {
     "name": "stdout",
     "output_type": "stream",
     "text": [
      "              precision    recall  f1-score   support\n",
      "\n",
      "           0       0.49      0.62      0.55        42\n",
      "           1       0.76      0.66      0.71        83\n",
      "           2       0.40      0.40      0.40        10\n",
      "\n",
      "    accuracy                           0.63       135\n",
      "   macro avg       0.55      0.56      0.55       135\n",
      "weighted avg       0.65      0.63      0.64       135\n",
      "\n",
      "----------------------------------------\n",
      "[[26 14  2]\n",
      " [24 55  4]\n",
      " [ 3  3  4]]\n"
     ]
    }
   ],
   "source": [
    "pred_bef_signi=DT.predict(X_test_signi)\n",
    "\n",
    "print(classification_report(y_test_signi,pred_bef_signi))\n",
    "print('-'*40)\n",
    "print(confusion_matrix(y_test_signi,pred_bef_signi))"
   ]
  },
  {
   "cell_type": "code",
   "execution_count": 21,
   "metadata": {},
   "outputs": [],
   "source": [
    "from sklearn.neighbors import KNeighborsClassifier\n",
    "from sklearn.preprocessing import MinMaxScaler\n",
    "scaler=MinMaxScaler()\n",
    "\n",
    "X_train_signi_scale=pd.DataFrame(scaler.fit_transform(X_res_signi),columns=X_train_signi.columns)\n",
    "X_test_signi_scale=pd.DataFrame(scaler.fit_transform(X_test_signi),columns=X_test_signi.columns)"
   ]
  },
  {
   "cell_type": "code",
   "execution_count": 22,
   "metadata": {},
   "outputs": [
    {
     "data": {
      "image/png": "[encoded data removed]",
      "text/plain": [
       "<Figure size 936x576 with 1 Axes>"
      ]
     },
     "metadata": {
      "needs_background": "light"
     },
     "output_type": "display_data"
    },
    {
     "name": "stdout",
     "output_type": "stream",
     "text": [
      "Best accuracy is 0.5555555555555556 with K = 1\n"
     ]
    }
   ],
   "source": [
    "# Model complexity\n",
    "neig = np.arange(1, 25)\n",
    "train_accuracy = []\n",
    "test_accuracy = []\n",
    "# Loop over different values of k\n",
    "for i, k in enumerate(neig):\n",
    "    # k from 1 to 25(exclude)\n",
    "    knn = KNeighborsClassifier(n_neighbors=k,metric='hamming')\n",
    "    \n",
    "    #cross_val_training score\n",
    "    kfold=KFold(shuffle=True,n_splits=3,random_state=0)\n",
    "    scores=cross_val_score(knn,X_train_signi_scale, Y_res_signi,cv=kfold,scoring='f1_weighted')\n",
    "    mean_score=scores.mean()\n",
    "    \n",
    "    #train accuracy\n",
    "    train_accuracy.append(mean_score)\n",
    "    \n",
    "    knn.fit(X_train_signi_scale, Y_res_signi)\n",
    "    # test accuracy\n",
    "    test_accuracy.append(knn.score(X_test_signi_scale, y_test_signi))\n",
    "\n",
    "\n",
    "# Plot\n",
    "plt.figure(figsize=[13,8])\n",
    "plt.plot(neig, test_accuracy, label = 'Testing Accuracy')\n",
    "plt.plot(neig, train_accuracy, label = 'Training Accuracy')\n",
    "plt.legend()\n",
    "plt.title('Value VS Accuracy',fontsize=20)\n",
    "plt.xlabel('Number of Neighbors',fontsize=20)\n",
    "plt.ylabel('Accuracy',fontsize=20)\n",
    "plt.xticks(neig)\n",
    "plt.grid()\n",
    "plt.show()\n",
    "print(\"Best accuracy is {} with K = {}\".format(np.max(test_accuracy),1+test_accuracy.index(np.max(test_accuracy))))"
   ]
  },
  {
   "cell_type": "code",
   "execution_count": 23,
   "metadata": {},
   "outputs": [],
   "source": [
    "KNN_signi=KNeighborsClassifier(n_neighbors=14,metric='hamming')"
   ]
  },
  {
   "cell_type": "code",
   "execution_count": 25,
   "metadata": {},
   "outputs": [],
   "source": [
    "#cross_val_training score\n",
    "kfold=KFold(shuffle=True,n_splits=3,random_state=0)\n",
    "scores=cross_val_score(KNN_signi,X_train_signi_scale, Y_res_signi,cv=kfold,scoring='f1_weighted')"
   ]
  },
  {
   "cell_type": "code",
   "execution_count": 26,
   "metadata": {},
   "outputs": [
    {
     "name": "stdout",
     "output_type": "stream",
     "text": [
      "0.6708642838932409\n",
      "0.0005833945612928964\n"
     ]
    }
   ],
   "source": [
    "print(scores.mean())\n",
    "print(scores.var())"
   ]
  },
  {
   "cell_type": "code",
   "execution_count": 27,
   "metadata": {},
   "outputs": [
    {
     "data": {
      "text/plain": [
       "KNeighborsClassifier(metric='hamming', n_neighbors=14)"
      ]
     },
     "execution_count": 27,
     "metadata": {},
     "output_type": "execute_result"
    }
   ],
   "source": [
    "KNN_signi.fit(X_train_signi_scale, Y_res_signi)"
   ]
  },
  {
   "cell_type": "code",
   "execution_count": 28,
   "metadata": {},
   "outputs": [
    {
     "name": "stdout",
     "output_type": "stream",
     "text": [
      "              precision    recall  f1-score   support\n",
      "\n",
      "           0       0.48      0.69      0.56        42\n",
      "           1       0.75      0.48      0.59        83\n",
      "           2       0.29      0.60      0.39        10\n",
      "\n",
      "    accuracy                           0.56       135\n",
      "   macro avg       0.51      0.59      0.51       135\n",
      "weighted avg       0.63      0.56      0.57       135\n",
      "\n",
      "----------------------------------------\n",
      "[[29 10  3]\n",
      " [31 40 12]\n",
      " [ 1  3  6]]\n"
     ]
    }
   ],
   "source": [
    "pred_KNN_signi=KNN_signi.predict(X_test_signi_scale) \n",
    "\n",
    "print(classification_report(y_test_signi,pred_KNN_signi)) \n",
    "print('-'*40) \n",
    "print(confusion_matrix(y_test_signi,pred_KNN_signi)) "
   ]
  },
  {
   "cell_type": "code",
   "execution_count": 29,
   "metadata": {},
   "outputs": [],
   "source": [
    "from sklearn.ensemble import AdaBoostClassifier,BaggingClassifier,GradientBoostingClassifier,RandomForestClassifier"
   ]
  },
  {
   "cell_type": "code",
   "execution_count": 30,
   "metadata": {},
   "outputs": [],
   "source": [
    "import warnings\n",
    "warnings.filterwarnings(\"ignore\", category=FutureWarning)"
   ]
  },
  {
   "cell_type": "code",
   "execution_count": 32,
   "metadata": {},
   "outputs": [],
   "source": [
    "\n",
    "DT2= DecisionTreeClassifier(criterion = 'entropy',random_state=0 )\n",
    "RF2=RandomForestClassifier(n_estimators=10,criterion='entropy',random_state=0)\n",
    "DT_boost2=AdaBoostClassifier(n_estimators=50,random_state=0)\n",
    "RF_boost2=AdaBoostClassifier(base_estimator=RF,n_estimators=50,random_state=0)\n",
    "GBoost2=GradientBoostingClassifier(n_estimators=50,random_state=0)\n",
    "\n",
    "\n",
    "\n",
    "models2=[]\n",
    "models2.append(('DecisionTree',DT2))\n",
    "models2.append(('RandomForest',RF2))\n",
    "models2.append(('BoostedDT',DT_boost2))\n",
    "models2.append(('BoostedRF',RF_boost2))\n",
    "models2.append(('GradientBoost',GBoost2))\n"
   ]
  },
  {
   "cell_type": "code",
   "execution_count": 34,
   "metadata": {},
   "outputs": [
    {
     "name": "stdout",
     "output_type": "stream",
     "text": [
      "DecisionTree: 0.309380 (0.000101)\n",
      "RandomForest: 0.259940 (0.001099)\n",
      "BoostedDT: 0.313865 (0.005831)\n",
      "BoostedRF: 0.189371 (0.001417)\n",
      "GradientBoost: 0.240118 (0.000655)\n"
     ]
    },
    {
     "data": {
      "image/png": "[encoded data removed]",
      "text/plain": [
       "<Figure size 432x288 with 1 Axes>"
      ]
     },
     "metadata": {
      "needs_background": "light"
     },
     "output_type": "display_data"
    }
   ],
   "source": [
    "from sklearn import model_selection\n",
    "\n",
    "# evaluate each model in turn\n",
    "results2 = []\n",
    "names2 = []\n",
    "for name, model in models2:\n",
    "\tkfold = model_selection.KFold(shuffle=True,n_splits=3,random_state=0)\n",
    "\tcv_results = model_selection.cross_val_score(model, X_res_signi, Y_res_signi,cv=kfold, scoring='f1_weighted')\n",
    "\tresults2.append(cv_results)\n",
    "\tnames2.append(name)\n",
    "\tprint(\"%s: %f (%f)\" % (name, 1-np.mean(cv_results),np.var(cv_results,ddof=1)))\n",
    "   # boxplot algorithm comparison\n",
    "fig = plt.figure()\n",
    "fig.suptitle('Algorithm Comparison')\n",
    "ax = fig.add_subplot(111)\n",
    "plt.boxplot(results2)\n",
    "ax.set_xticklabels(names2)\n",
    "plt.show()\n"
   ]
  },
  {
   "cell_type": "code",
   "execution_count": 35,
   "metadata": {},
   "outputs": [],
   "source": [
    "RF_all=RandomForestClassifier()"
   ]
  },
  {
   "cell_type": "code",
   "execution_count": 36,
   "metadata": {},
   "outputs": [
    {
     "data": {
      "text/plain": [
       "GridSearchCV(cv=3, estimator=RandomForestClassifier(),\n",
       "             param_grid={'criterion': ['gini', 'entropy'],\n",
       "                         'max_depth': range(5, 25),\n",
       "                         'n_estimators': range(10, 101)},\n",
       "             scoring='f1_weighted')"
      ]
     },
     "execution_count": 36,
     "metadata": {},
     "output_type": "execute_result"
    }
   ],
   "source": [
    "from sklearn.model_selection import GridSearchCV\n",
    "\n",
    "RF_all=RandomForestClassifier()\n",
    "\n",
    "param={'criterion':['gini','entropy'],'n_estimators':range(10,101),\"max_depth\":range(5,25)}\n",
    "\n",
    "GS_all=GridSearchCV(RF_all,param,cv=3,scoring='f1_weighted')\n",
    "\n",
    "GS_all.fit(X_res_signi, Y_res_signi)"
   ]
  },
  {
   "cell_type": "code",
   "execution_count": 37,
   "metadata": {},
   "outputs": [
    {
     "data": {
      "text/plain": [
       "RandomForestClassifier(criterion='entropy', max_depth=17, n_estimators=65)"
      ]
     },
     "execution_count": 37,
     "metadata": {},
     "output_type": "execute_result"
    }
   ],
   "source": [
    "GS_all.best_estimator_"
   ]
  },
  {
   "cell_type": "code",
   "execution_count": 38,
   "metadata": {},
   "outputs": [],
   "source": [
    "RF_signi=RandomForestClassifier(criterion='entropy', max_depth=17, n_estimators=65)"
   ]
  },
  {
   "cell_type": "code",
   "execution_count": 39,
   "metadata": {},
   "outputs": [
    {
     "data": {
      "text/plain": [
       "RandomForestClassifier(criterion='entropy', max_depth=17, n_estimators=65)"
      ]
     },
     "execution_count": 39,
     "metadata": {},
     "output_type": "execute_result"
    }
   ],
   "source": [
    "RF_signi.fit(X_res_signi, Y_res_signi)"
   ]
  },
  {
   "cell_type": "code",
   "execution_count": 40,
   "metadata": {},
   "outputs": [],
   "source": [
    "#cross_val_training score\n",
    "kfold=KFold(shuffle=True,n_splits=3,random_state=0)\n",
    "scores=cross_val_score(RF_signi, X_res_signi, Y_res_signi,cv=kfold,scoring='f1_weighted')"
   ]
  },
  {
   "cell_type": "code",
   "execution_count": 41,
   "metadata": {},
   "outputs": [
    {
     "name": "stdout",
     "output_type": "stream",
     "text": [
      "0.7871933927365404\n",
      "0.00043526426946728885\n"
     ]
    }
   ],
   "source": [
    "print(scores.mean())\n",
    "print(scores.var())"
   ]
  },
  {
   "cell_type": "code",
   "execution_count": 42,
   "metadata": {},
   "outputs": [
    {
     "name": "stdout",
     "output_type": "stream",
     "text": [
      "              precision    recall  f1-score   support\n",
      "\n",
      "           0       0.50      0.52      0.51        42\n",
      "           1       0.71      0.71      0.71        83\n",
      "           2       0.25      0.20      0.22        10\n",
      "\n",
      "    accuracy                           0.61       135\n",
      "   macro avg       0.49      0.48      0.48       135\n",
      "weighted avg       0.61      0.61      0.61       135\n",
      "\n",
      "----------------------------------------\n",
      "[[22 18  2]\n",
      " [20 59  4]\n",
      " [ 2  6  2]]\n"
     ]
    }
   ],
   "source": [
    "pred_RF_signi=RF_signi.predict(X_test_signi) \n",
    "\n",
    "print(classification_report(y_test_signi,pred_RF_signi)) \n",
    "print('-'*40) \n",
    "print(confusion_matrix(y_test_signi,pred_RF_signi)) "
   ]
  },
  {
   "cell_type": "code",
   "execution_count": 43,
   "metadata": {},
   "outputs": [],
   "source": [
    "RF_boost_signi=AdaBoostClassifier(base_estimator=RF_signi,n_estimators=25)"
   ]
  },
  {
   "cell_type": "code",
   "execution_count": 44,
   "metadata": {},
   "outputs": [],
   "source": [
    "#cross_val_training score\n",
    "kfold=KFold(shuffle=True,n_splits=3,random_state=0)\n",
    "scores=cross_val_score(RF_boost_signi, X_res_signi, Y_res_signi,cv=kfold,scoring='f1_weighted')"
   ]
  },
  {
   "cell_type": "code",
   "execution_count": 45,
   "metadata": {},
   "outputs": [
    {
     "name": "stdout",
     "output_type": "stream",
     "text": [
      "0.7906325397719494\n",
      "2.834535537903035e-05\n"
     ]
    }
   ],
   "source": [
    "print(scores.mean())\n",
    "print(scores.var())"
   ]
  },
  {
   "cell_type": "code",
   "execution_count": 46,
   "metadata": {},
   "outputs": [
    {
     "data": {
      "text/plain": [
       "AdaBoostClassifier(base_estimator=RandomForestClassifier(criterion='entropy',\n",
       "                                                         max_depth=17,\n",
       "                                                         n_estimators=65),\n",
       "                   n_estimators=25)"
      ]
     },
     "execution_count": 46,
     "metadata": {},
     "output_type": "execute_result"
    }
   ],
   "source": [
    "RF_boost_signi.fit(X_res_signi, Y_res_signi)"
   ]
  },
  {
   "cell_type": "code",
   "execution_count": 47,
   "metadata": {},
   "outputs": [
    {
     "name": "stdout",
     "output_type": "stream",
     "text": [
      "              precision    recall  f1-score   support\n",
      "\n",
      "           0       0.51      0.55      0.53        42\n",
      "           1       0.72      0.70      0.71        83\n",
      "           2       0.33      0.30      0.32        10\n",
      "\n",
      "    accuracy                           0.62       135\n",
      "   macro avg       0.52      0.52      0.52       135\n",
      "weighted avg       0.62      0.62      0.62       135\n",
      "\n",
      "----------------------------------------\n",
      "[[23 17  2]\n",
      " [21 58  4]\n",
      " [ 1  6  3]]\n"
     ]
    }
   ],
   "source": [
    "pred_RF_boost_signi=RF_boost_signi.predict(X_test_signi) \n",
    "\n",
    "print(classification_report(y_test_signi,pred_RF_boost_signi)) \n",
    "print('-'*40) \n",
    "print(confusion_matrix(y_test_signi,pred_RF_boost_signi)) "
   ]
  },
  {
   "cell_type": "code",
   "execution_count": 48,
   "metadata": {},
   "outputs": [],
   "source": [
    "X=data_present[sigini_vars].drop(columns='Spending_kind_Present')\n",
    "y=data_present['Spending_kind_Present']"
   ]
  },
  {
   "cell_type": "code",
   "execution_count": 49,
   "metadata": {},
   "outputs": [],
   "source": [
    "X_train, X_test, y_train, y_test = train_test_split(X, y, test_size=0.3)"
   ]
  },
  {
   "cell_type": "code",
   "execution_count": 50,
   "metadata": {},
   "outputs": [],
   "source": [
    "GBoost_signi=GradientBoostingClassifier(n_estimators=50)"
   ]
  },
  {
   "cell_type": "code",
   "execution_count": 51,
   "metadata": {},
   "outputs": [],
   "source": [
    "#cross_val_training score\n",
    "kfold=KFold(shuffle=True,n_splits=3,random_state=0)\n",
    "scores=cross_val_score(GBoost_signi, X_train, y_train,cv=kfold,scoring='f1_weighted')"
   ]
  },
  {
   "cell_type": "code",
   "execution_count": 52,
   "metadata": {},
   "outputs": [
    {
     "name": "stdout",
     "output_type": "stream",
     "text": [
      "0.6001199786533244\n",
      "0.0013467682743271833\n"
     ]
    }
   ],
   "source": [
    "print(scores.mean())\n",
    "print(scores.var())"
   ]
  },
  {
   "cell_type": "code",
   "execution_count": 53,
   "metadata": {},
   "outputs": [
    {
     "data": {
      "text/plain": [
       "GradientBoostingClassifier(n_estimators=50)"
      ]
     },
     "execution_count": 53,
     "metadata": {},
     "output_type": "execute_result"
    }
   ],
   "source": [
    "GBoost_signi.fit(X_train, y_train)"
   ]
  },
  {
   "cell_type": "code",
   "execution_count": 54,
   "metadata": {},
   "outputs": [
    {
     "name": "stdout",
     "output_type": "stream",
     "text": [
      "              precision    recall  f1-score   support\n",
      "\n",
      "           0       0.60      0.48      0.53        44\n",
      "           1       0.70      0.83      0.76        81\n",
      "           2       0.75      0.30      0.43        10\n",
      "\n",
      "    accuracy                           0.67       135\n",
      "   macro avg       0.68      0.53      0.57       135\n",
      "weighted avg       0.67      0.67      0.66       135\n",
      "\n",
      "----------------------------------------\n",
      "[[21 23  0]\n",
      " [13 67  1]\n",
      " [ 1  6  3]]\n"
     ]
    }
   ],
   "source": [
    "pred_GBoost_signi = GBoost_signi.predict(X_test) \n",
    "\n",
    "print(classification_report(y_test,pred_GBoost_signi)) \n",
    "print('-'*40) \n",
    "print(confusion_matrix(y_test,pred_GBoost_signi)) "
   ]
  },
  {
   "cell_type": "code",
   "execution_count": null,
   "metadata": {},
   "outputs": [],
   "source": [
    "from sklearn.model_selection import GridSearchCV\n",
    "\n",
    "RF_all=RandomForestClassifier() \n",
    "\n",
    "param={'criterion':['gini','entropy'],'n_estimators':range(10,101),\"max_depth\":range(5,25)} \n",
    "\n",
    "GS_all=GridSearchCV(RF_all,param,cv=3,scoring='f1_weighted') \n",
    "\n",
    "GS_all.fit(X_train,y_train) "
   ]
  },
  {
   "cell_type": "code",
   "execution_count": null,
   "metadata": {},
   "outputs": [],
   "source": []
  }
 ],
 "metadata": {
  "kernelspec": {
   "display_name": "Python 3",
   "language": "python",
   "name": "python3"
  },
  "language_info": {
   "codemirror_mode": {
    "name": "ipython",
    "version": 3
   },
   "file_extension": ".py",
   "mimetype": "text/x-python",
   "name": "python",
   "nbconvert_exporter": "python",
   "pygments_lexer": "ipython3",
   "version": "3.8.3"
  }
 },
 "nbformat": 4,
 "nbformat_minor": 4
}
